{
 "cells": [
  {
   "cell_type": "code",
   "execution_count": 1,
   "id": "diagnostic-mills",
   "metadata": {},
   "outputs": [],
   "source": [
    "# Package ID: edi.949.1 Cataloging System:https://pasta.edirepository.org.\n",
    "# Data set title: Journey North - Monarch Butterfly and Milkweed observations by volunteer community scientists across Central and North America (1996-2020).\n",
    "# Data set creator:  Nancy Sheehan - University of Wisconsin - Madison Arboretum, Journey North Program \n",
    "# Data set creator:  Luis Weber-Grullon - University of Wisconsin - Madison \n",
    "# Contact:  Nancy Sheehan - Program Coordinator University of Wisconsin - Madison Arboretum, Journey North Program  - nsheehan@wisc.edu\n",
    "# Stylesheet v1.0 for metadata conversion into program: John H. Porter, Univ. Virginia, jporter@virginia.edu      \n"
   ]
  },
  {
   "cell_type": "code",
   "execution_count": 2,
   "id": "piano-purpose",
   "metadata": {},
   "outputs": [],
   "source": [
    "#Import Libraries\n",
    "import numpy as np\n",
    "import pandas as pd\n",
    "import pandas_profiling\n",
    "import matplotlib.pyplot as plt\n",
    "import seaborn as sns\n",
    "from geopy.geocoders import Nominatim"
   ]
  },
  {
   "cell_type": "code",
   "execution_count": 3,
   "id": "local-buffalo",
   "metadata": {},
   "outputs": [],
   "source": [
    "infile1  =\"https://pasta.lternet.edu/package/data/eml/edi/949/1/02f2be4d90198702c46fa36556f3749a\".strip() \n",
    "infile1  = infile1.replace(\"https://\",\"http://\")"
   ]
  },
  {
   "cell_type": "code",
   "execution_count": 4,
   "id": "cubic-quick",
   "metadata": {},
   "outputs": [
    {
     "name": "stderr",
     "output_type": "stream",
     "text": [
      "/opt/anaconda3/envs/dataScience/lib/python3.9/site-packages/IPython/core/interactiveshell.py:3165: DtypeWarning: Columns (8) have mixed types.Specify dtype option on import or set low_memory=False.\n",
      "  has_raised = await self.run_ast_nodes(code_ast.body, cell_name,\n"
     ]
    }
   ],
   "source": [
    "dt1 =pd.read_csv(infile1 \n",
    "          ,skiprows=1\n",
    "            ,sep=\",\"  \n",
    "                ,quotechar='\"' \n",
    "           , names=[\n",
    "                    \"id\",     \n",
    "                    \"sighting_date\",     \n",
    "                    \"species\",     \n",
    "                    \"number\",     \n",
    "                    \"latitude\",     \n",
    "                    \"longitude\",     \n",
    "                    \"flag_location\",     \n",
    "                    \"comments\",     \n",
    "                    \"school\",     \n",
    "                    \"grade\",     \n",
    "                    \"image_url\",     \n",
    "                    \"customerid\",     \n",
    "                    \"number_old\",     \n",
    "                    \"flag_number\",     \n",
    "                    \"species_old\",     \n",
    "                    \"flag_species\"    ]\n",
    "# data type checking is commented out because it may cause data\n",
    "# loads to fail if the data contains inconsistent values. Uncomment \n",
    "# the following lines to enable data type checking\n",
    "         \n",
    "#            ,dtype={  \n",
    "#             'id':'str' , \n",
    "#             'sighting_date':'str' ,  \n",
    "#             'species':'str' , \n",
    "#             'number':'int' , \n",
    "#             'latitude':'float' , \n",
    "#             'longitude':'float' ,  \n",
    "#             'flag_location':'str' ,  \n",
    "#             'comments':'str' ,  \n",
    "#             'school':'str' ,  \n",
    "#             'grade':'str' ,  \n",
    "#             'image_url':'str' ,  \n",
    "#             'customerid':'str' , \n",
    "#             'number_old':'float' ,  \n",
    "#             'flag_number':'str' ,  \n",
    "#             'species_old':'str' ,  \n",
    "#             'flag_species':'str'  \n",
    "#        }\n",
    "          ,parse_dates=[\n",
    "                        'sighting_date',\n",
    "                ] \n",
    "            ,na_values={\n",
    "                  'comments':[\n",
    "                          '-999999.999',],\n",
    "                  'school':[\n",
    "                          '-999999.999',],\n",
    "                  'grade':[\n",
    "                          '-999999.999',],\n",
    "                  'image_url':[\n",
    "                          '-999999.999',],\n",
    "                  'number_old':[\n",
    "                          '-999999.999',],\n",
    "                  'species_old':[\n",
    "                          '-999999.999',],} \n",
    "            \n",
    "    )"
   ]
  },
  {
   "cell_type": "code",
   "execution_count": 5,
   "id": "italian-explosion",
   "metadata": {},
   "outputs": [],
   "source": [
    "# Coerce the data into the types specified in the metadata  \n",
    "dt1.id=dt1.id.astype('category') \n",
    "# Since date conversions are tricky, the coerced dates will go into a new column with _datetime appended\n",
    "# This new column is added to the dataframe but does not show up in automated summaries below. \n",
    "dt1=dt1.assign(sighting_date_datetime=pd.to_datetime(dt1.sighting_date,errors='coerce'))  \n",
    "dt1.species=dt1.species.astype('category') \n",
    "dt1.number=pd.to_numeric(dt1.number,errors='coerce',downcast='integer') \n",
    "dt1.latitude=pd.to_numeric(dt1.latitude,errors='coerce') \n",
    "dt1.longitude=pd.to_numeric(dt1.longitude,errors='coerce')  \n",
    "dt1.flag_location=dt1.flag_location.astype('category')  \n",
    "dt1.comments=dt1.comments.astype('category')  \n",
    "dt1.school=dt1.school.astype('category')  \n",
    "dt1.grade=dt1.grade.astype('category')  \n",
    "dt1.image_url=dt1.image_url.astype('category')  \n",
    "dt1.customerid=dt1.customerid.astype('category') \n",
    "dt1.number_old=pd.to_numeric(dt1.number_old,errors='coerce')  \n",
    "dt1.flag_number=dt1.flag_number.astype('category')  \n",
    "dt1.species_old=dt1.species_old.astype('category')  \n",
    "dt1.flag_species=dt1.flag_species.astype('category') "
   ]
  },
  {
   "cell_type": "code",
   "execution_count": 6,
   "id": "absolute-minimum",
   "metadata": {},
   "outputs": [
    {
     "name": "stdout",
     "output_type": "stream",
     "text": [
      "Here is a description of the data frame dt1 and number of lines\n",
      "\n",
      "<class 'pandas.core.frame.DataFrame'>\n",
      "RangeIndex: 227433 entries, 0 to 227432\n",
      "Data columns (total 17 columns):\n",
      " #   Column                  Non-Null Count   Dtype         \n",
      "---  ------                  --------------   -----         \n",
      " 0   id                      227433 non-null  category      \n",
      " 1   sighting_date           227433 non-null  datetime64[ns]\n",
      " 2   species                 227433 non-null  category      \n",
      " 3   number                  227433 non-null  int32         \n",
      " 4   latitude                227433 non-null  float64       \n",
      " 5   longitude               227433 non-null  float64       \n",
      " 6   flag_location           227433 non-null  category      \n",
      " 7   comments                226006 non-null  category      \n",
      " 8   school                  24804 non-null   category      \n",
      " 9   grade                   21063 non-null   category      \n",
      " 10  image_url               43522 non-null   category      \n",
      " 11  customerid              227433 non-null  category      \n",
      " 12  number_old              162718 non-null  float64       \n",
      " 13  flag_number             227433 non-null  category      \n",
      " 14  species_old             227433 non-null  category      \n",
      " 15  flag_species            227433 non-null  category      \n",
      " 16  sighting_date_datetime  227433 non-null  datetime64[ns]\n",
      "dtypes: category(11), datetime64[ns](2), float64(3), int32(1)\n",
      "memory usage: 37.2 MB\n",
      "None\n",
      "--------------------\n",
      "\n",
      "\n",
      "Here is a summary of numerical variables in the data frame dt1\n",
      "\n",
      "             number       latitude      longitude    number_old\n",
      "count  2.274330e+05  227433.000000  227433.000000  1.627180e+05\n",
      "mean   1.186529e+02      38.400690     -87.569965  1.654378e+02\n",
      "std    2.209080e+04       5.268651      10.880362  2.611670e+04\n",
      "min   -1.700000e+01     -12.100000    -165.107000 -1.700000e+01\n",
      "25%    1.000000e+00      34.723000     -95.268000  1.000000e+00\n",
      "50%    1.000000e+00      39.503000     -86.787000  2.000000e+00\n",
      "75%    3.000000e+00      42.409000     -79.255000  5.000000e+00\n",
      "max    1.000000e+07      65.136000     -52.883000  1.000000e+07\n",
      "--------------------\n",
      "\n",
      "\n",
      "The analyses below are basic descriptions of the variables. After testing, they should be replaced.\n",
      "\n",
      "count        227433\n",
      "unique       227433\n",
      "top       850841703\n",
      "freq              1\n",
      "Name: id, dtype: int64\n",
      "--------------------\n",
      "\n",
      "\n",
      "count                  227433\n",
      "unique                   7491\n",
      "top       2018-08-22 00:00:00\n",
      "freq                      392\n",
      "first     1996-03-26 00:00:00\n",
      "last      2020-12-31 00:00:00\n",
      "Name: sighting_date, dtype: object\n",
      "--------------------\n",
      "\n",
      "\n",
      "count                    227433\n",
      "unique                       12\n",
      "top       Monarch Adult Sighted\n",
      "freq                     102306\n",
      "Name: species, dtype: object\n",
      "--------------------\n",
      "\n",
      "\n",
      "count    2.274330e+05\n",
      "mean     1.186529e+02\n",
      "std      2.209080e+04\n",
      "min     -1.700000e+01\n",
      "25%      1.000000e+00\n",
      "50%      1.000000e+00\n",
      "75%      3.000000e+00\n",
      "max      1.000000e+07\n",
      "Name: number, dtype: float64\n",
      "--------------------\n",
      "\n",
      "\n",
      "count    227433.000000\n",
      "mean         38.400690\n",
      "std           5.268651\n",
      "min         -12.100000\n",
      "25%          34.723000\n",
      "50%          39.503000\n",
      "75%          42.409000\n",
      "max          65.136000\n",
      "Name: latitude, dtype: float64\n",
      "--------------------\n",
      "\n",
      "\n",
      "count    227433.000000\n",
      "mean        -87.569965\n",
      "std          10.880362\n",
      "min        -165.107000\n",
      "25%         -95.268000\n",
      "50%         -86.787000\n",
      "75%         -79.255000\n",
      "max         -52.883000\n",
      "Name: longitude, dtype: float64\n",
      "--------------------\n",
      "\n",
      "\n",
      "count     227433\n",
      "unique         2\n",
      "top            1\n",
      "freq      136009\n",
      "Name: flag_location, dtype: int64\n",
      "--------------------\n",
      "\n",
      "\n",
      "count     226006\n",
      "unique    212735\n",
      "top       Female\n",
      "freq         170\n",
      "Name: comments, dtype: object\n",
      "--------------------\n",
      "\n",
      "\n",
      "count     24804\n",
      "unique     6912\n",
      "top        None\n",
      "freq        457\n",
      "Name: school, dtype: object\n",
      "--------------------\n",
      "\n",
      "\n",
      "count     21063.0\n",
      "unique       66.0\n",
      "top          99.0\n",
      "freq       3136.0\n",
      "Name: grade, dtype: float64\n",
      "--------------------\n",
      "\n",
      "\n",
      "count                                                 43522\n",
      "unique                                                43473\n",
      "top       //sightings.journeynorth.org/jnorth/images/use...\n",
      "freq                                                      8\n",
      "Name: image_url, dtype: object\n",
      "--------------------\n",
      "\n",
      "\n",
      "count      227433\n",
      "unique      42518\n",
      "top       9710973\n",
      "freq         7256\n",
      "Name: customerid, dtype: int64\n",
      "--------------------\n",
      "\n",
      "\n",
      "count    1.627180e+05\n",
      "mean     1.654378e+02\n",
      "std      2.611670e+04\n",
      "min     -1.700000e+01\n",
      "25%      1.000000e+00\n",
      "50%      2.000000e+00\n",
      "75%      5.000000e+00\n",
      "max      1.000000e+07\n",
      "Name: number_old, dtype: float64\n",
      "--------------------\n",
      "\n",
      "\n",
      "count     227433\n",
      "unique         3\n",
      "top            0\n",
      "freq      161550\n",
      "Name: flag_number, dtype: int64\n",
      "--------------------\n",
      "\n",
      "\n",
      "count                    227433\n",
      "unique                       96\n",
      "top       Monarch Adult Sighted\n",
      "freq                      91662\n",
      "Name: species_old, dtype: object\n",
      "--------------------\n",
      "\n",
      "\n",
      "count     227433\n",
      "unique         2\n",
      "top            0\n",
      "freq      197793\n",
      "Name: flag_species, dtype: int64\n",
      "--------------------\n",
      "\n",
      "\n"
     ]
    },
    {
     "name": "stderr",
     "output_type": "stream",
     "text": [
      "<ipython-input-6-74c872327c09>:13: FutureWarning: Treating datetime data as categorical rather than numeric in `.describe` is deprecated and will be removed in a future version of pandas. Specify `datetime_is_numeric=True` to silence this warning and adopt the future behavior now.\n",
      "  print(dt1.sighting_date.describe())\n"
     ]
    }
   ],
   "source": [
    "print(\"Here is a description of the data frame dt1 and number of lines\\n\")\n",
    "print(dt1.info())\n",
    "print(\"--------------------\\n\\n\")                \n",
    "print(\"Here is a summary of numerical variables in the data frame dt1\\n\")\n",
    "print(dt1.describe())\n",
    "print(\"--------------------\\n\\n\")                \n",
    "                         \n",
    "print(\"The analyses below are basic descriptions of the variables. After testing, they should be replaced.\\n\")                 \n",
    "\n",
    "print(dt1.id.describe())               \n",
    "print(\"--------------------\\n\\n\")\n",
    "                    \n",
    "print(dt1.sighting_date.describe())               \n",
    "print(\"--------------------\\n\\n\")\n",
    "                    \n",
    "print(dt1.species.describe())               \n",
    "print(\"--------------------\\n\\n\")\n",
    "                    \n",
    "print(dt1.number.describe())               \n",
    "print(\"--------------------\\n\\n\")\n",
    "                    \n",
    "print(dt1.latitude.describe())               \n",
    "print(\"--------------------\\n\\n\")\n",
    "                    \n",
    "print(dt1.longitude.describe())               \n",
    "print(\"--------------------\\n\\n\")\n",
    "                    \n",
    "print(dt1.flag_location.describe())               \n",
    "print(\"--------------------\\n\\n\")\n",
    "                    \n",
    "print(dt1.comments.describe())               \n",
    "print(\"--------------------\\n\\n\")\n",
    "                    \n",
    "print(dt1.school.describe())               \n",
    "print(\"--------------------\\n\\n\")\n",
    "                    \n",
    "print(dt1.grade.describe())               \n",
    "print(\"--------------------\\n\\n\")\n",
    "                    \n",
    "print(dt1.image_url.describe())               \n",
    "print(\"--------------------\\n\\n\")\n",
    "                    \n",
    "print(dt1.customerid.describe())               \n",
    "print(\"--------------------\\n\\n\")\n",
    "                    \n",
    "print(dt1.number_old.describe())               \n",
    "print(\"--------------------\\n\\n\")\n",
    "                    \n",
    "print(dt1.flag_number.describe())               \n",
    "print(\"--------------------\\n\\n\")\n",
    "                    \n",
    "print(dt1.species_old.describe())               \n",
    "print(\"--------------------\\n\\n\")\n",
    "                    \n",
    "print(dt1.flag_species.describe())               \n",
    "print(\"--------------------\\n\\n\")"
   ]
  },
  {
   "cell_type": "code",
   "execution_count": 7,
   "id": "mysterious-canadian",
   "metadata": {},
   "outputs": [
    {
     "data": {
      "text/html": [
       "<div>\n",
       "<style scoped>\n",
       "    .dataframe tbody tr th:only-of-type {\n",
       "        vertical-align: middle;\n",
       "    }\n",
       "\n",
       "    .dataframe tbody tr th {\n",
       "        vertical-align: top;\n",
       "    }\n",
       "\n",
       "    .dataframe thead th {\n",
       "        text-align: right;\n",
       "    }\n",
       "</style>\n",
       "<table border=\"1\" class=\"dataframe\">\n",
       "  <thead>\n",
       "    <tr style=\"text-align: right;\">\n",
       "      <th></th>\n",
       "      <th>id</th>\n",
       "      <th>sighting_date</th>\n",
       "      <th>species</th>\n",
       "      <th>number</th>\n",
       "      <th>latitude</th>\n",
       "      <th>longitude</th>\n",
       "      <th>flag_location</th>\n",
       "      <th>comments</th>\n",
       "      <th>school</th>\n",
       "      <th>grade</th>\n",
       "      <th>image_url</th>\n",
       "      <th>customerid</th>\n",
       "      <th>number_old</th>\n",
       "      <th>flag_number</th>\n",
       "      <th>species_old</th>\n",
       "      <th>flag_species</th>\n",
       "      <th>sighting_date_datetime</th>\n",
       "    </tr>\n",
       "  </thead>\n",
       "  <tbody>\n",
       "    <tr>\n",
       "      <th>0</th>\n",
       "      <td>850841703</td>\n",
       "      <td>1996-12-16</td>\n",
       "      <td>Monarch Adult Sighted</td>\n",
       "      <td>1</td>\n",
       "      <td>27.594</td>\n",
       "      <td>-81.362</td>\n",
       "      <td>0</td>\n",
       "      <td>On the ballfield a solitary monarch butterfly ...</td>\n",
       "      <td>Walker memorial junior academy</td>\n",
       "      <td>10.0</td>\n",
       "      <td>NaN</td>\n",
       "      <td>135</td>\n",
       "      <td>NaN</td>\n",
       "      <td>1</td>\n",
       "      <td>Monarch Butterfly</td>\n",
       "      <td>1</td>\n",
       "      <td>1996-12-16</td>\n",
       "    </tr>\n",
       "    <tr>\n",
       "      <th>1</th>\n",
       "      <td>851824801</td>\n",
       "      <td>1996-12-06</td>\n",
       "      <td>Monarch Adult Sighted</td>\n",
       "      <td>1</td>\n",
       "      <td>30.420</td>\n",
       "      <td>-87.224</td>\n",
       "      <td>0</td>\n",
       "      <td>Our 5th grade Discovery students who went alon...</td>\n",
       "      <td>Hambrick elementary school</td>\n",
       "      <td>5.0</td>\n",
       "      <td>NaN</td>\n",
       "      <td>150</td>\n",
       "      <td>NaN</td>\n",
       "      <td>1</td>\n",
       "      <td>Monarch Butterfly</td>\n",
       "      <td>1</td>\n",
       "      <td>1996-12-06</td>\n",
       "    </tr>\n",
       "    <tr>\n",
       "      <th>2</th>\n",
       "      <td>854409931</td>\n",
       "      <td>1996-09-21</td>\n",
       "      <td>Monarch Adult Sighted</td>\n",
       "      <td>1</td>\n",
       "      <td>40.817</td>\n",
       "      <td>-96.710</td>\n",
       "      <td>0</td>\n",
       "      <td>We saw several hundred monarchs in our school ...</td>\n",
       "      <td>NaN</td>\n",
       "      <td>5.0</td>\n",
       "      <td>NaN</td>\n",
       "      <td>9701054</td>\n",
       "      <td>NaN</td>\n",
       "      <td>1</td>\n",
       "      <td>Monarch Butterfly</td>\n",
       "      <td>1</td>\n",
       "      <td>1996-09-21</td>\n",
       "    </tr>\n",
       "    <tr>\n",
       "      <th>3</th>\n",
       "      <td>854557206</td>\n",
       "      <td>1996-09-21</td>\n",
       "      <td>Monarch Adult Sighted</td>\n",
       "      <td>1</td>\n",
       "      <td>40.817</td>\n",
       "      <td>-96.710</td>\n",
       "      <td>0</td>\n",
       "      <td>Over a hundered monarchs in our school butterf...</td>\n",
       "      <td>Fredstrom elementary school</td>\n",
       "      <td>6.0</td>\n",
       "      <td>NaN</td>\n",
       "      <td>175</td>\n",
       "      <td>NaN</td>\n",
       "      <td>1</td>\n",
       "      <td>Monarch Butterfly</td>\n",
       "      <td>1</td>\n",
       "      <td>1996-09-21</td>\n",
       "    </tr>\n",
       "    <tr>\n",
       "      <th>4</th>\n",
       "      <td>855061862</td>\n",
       "      <td>1997-01-01</td>\n",
       "      <td>Monarch Adult Sighted</td>\n",
       "      <td>1</td>\n",
       "      <td>34.244</td>\n",
       "      <td>-77.946</td>\n",
       "      <td>0</td>\n",
       "      <td>I Thought I Saw It, But I Was Suprised To See ...</td>\n",
       "      <td>Gregory</td>\n",
       "      <td>3.0</td>\n",
       "      <td>NaN</td>\n",
       "      <td>181</td>\n",
       "      <td>NaN</td>\n",
       "      <td>1</td>\n",
       "      <td>Monarch Butterfly</td>\n",
       "      <td>1</td>\n",
       "      <td>1997-01-01</td>\n",
       "    </tr>\n",
       "  </tbody>\n",
       "</table>\n",
       "</div>"
      ],
      "text/plain": [
       "          id sighting_date                species  number  latitude  \\\n",
       "0  850841703    1996-12-16  Monarch Adult Sighted       1    27.594   \n",
       "1  851824801    1996-12-06  Monarch Adult Sighted       1    30.420   \n",
       "2  854409931    1996-09-21  Monarch Adult Sighted       1    40.817   \n",
       "3  854557206    1996-09-21  Monarch Adult Sighted       1    40.817   \n",
       "4  855061862    1997-01-01  Monarch Adult Sighted       1    34.244   \n",
       "\n",
       "   longitude flag_location                                           comments  \\\n",
       "0    -81.362             0  On the ballfield a solitary monarch butterfly ...   \n",
       "1    -87.224             0  Our 5th grade Discovery students who went alon...   \n",
       "2    -96.710             0  We saw several hundred monarchs in our school ...   \n",
       "3    -96.710             0  Over a hundered monarchs in our school butterf...   \n",
       "4    -77.946             0  I Thought I Saw It, But I Was Suprised To See ...   \n",
       "\n",
       "                           school grade image_url customerid  number_old  \\\n",
       "0  Walker memorial junior academy  10.0       NaN        135         NaN   \n",
       "1      Hambrick elementary school   5.0       NaN        150         NaN   \n",
       "2                             NaN   5.0       NaN    9701054         NaN   \n",
       "3     Fredstrom elementary school   6.0       NaN        175         NaN   \n",
       "4                         Gregory   3.0       NaN        181         NaN   \n",
       "\n",
       "  flag_number        species_old flag_species sighting_date_datetime  \n",
       "0           1  Monarch Butterfly            1             1996-12-16  \n",
       "1           1  Monarch Butterfly            1             1996-12-06  \n",
       "2           1  Monarch Butterfly            1             1996-09-21  \n",
       "3           1  Monarch Butterfly            1             1996-09-21  \n",
       "4           1  Monarch Butterfly            1             1997-01-01  "
      ]
     },
     "execution_count": 7,
     "metadata": {},
     "output_type": "execute_result"
    }
   ],
   "source": [
    "dt1.head()"
   ]
  },
  {
   "cell_type": "code",
   "execution_count": 9,
   "id": "increasing-orlando",
   "metadata": {},
   "outputs": [
    {
     "data": {
      "text/plain": [
       "['Monarch Adult Sighted', 'Monarch Adult (FIRST sighted)', 'Monarch Egg (FIRST sighted)', 'Monarch (OTHER Observations)', 'Monarch Larva (FIRST sighted)', ..., 'Monarch Fall Roost', 'Monarch Egg Sighted', 'Monarch Larva Sighted', 'Monarch, Captive-Reared', 'Milkweed Sighted']\n",
       "Length: 12\n",
       "Categories (12, object): ['Monarch Adult Sighted', 'Monarch Adult (FIRST sighted)', 'Monarch Egg (FIRST sighted)', 'Monarch (OTHER Observations)', ..., 'Monarch Egg Sighted', 'Monarch Larva Sighted', 'Monarch, Captive-Reared', 'Milkweed Sighted']"
      ]
     },
     "execution_count": 9,
     "metadata": {},
     "output_type": "execute_result"
    }
   ],
   "source": [
    "dt1.species.unique()"
   ]
  },
  {
   "cell_type": "code",
   "execution_count": 10,
   "id": "angry-marijuana",
   "metadata": {},
   "outputs": [
    {
     "data": {
      "text/plain": [
       "(array([138715.,   6876.,  13581.,   4898.,   7689.,   8465.,   5035.,\n",
       "          8736.,  17378.,  16060.]),\n",
       " array([ 0. ,  1.1,  2.2,  3.3,  4.4,  5.5,  6.6,  7.7,  8.8,  9.9, 11. ]),\n",
       " <BarContainer object of 10 artists>)"
      ]
     },
     "execution_count": 10,
     "metadata": {},
     "output_type": "execute_result"
    },
    {
     "data": {
      "image/png": "[encoded data removed]",
      "text/plain": [
       "<Figure size 432x288 with 1 Axes>"
      ]
     },
     "metadata": {
      "needs_background": "light"
     },
     "output_type": "display_data"
    }
   ],
   "source": [
    "plt.hist(dt1['species'])"
   ]
  },
  {
   "cell_type": "code",
   "execution_count": 11,
   "id": "conceptual-smell",
   "metadata": {},
   "outputs": [
    {
     "data": {
      "text/plain": [
       "species\n",
       "Milkweed (FIRST sighted)           8465\n",
       "Milkweed Sighted                   1721\n",
       "Monarch (OTHER Observations)      13581\n",
       "Monarch Adult (FIRST sighted)     36409\n",
       "Monarch Adult Sighted            102306\n",
       "Monarch Egg (FIRST sighted)        6876\n",
       "Monarch Egg Sighted                8736\n",
       "Monarch Fall Roost                 5035\n",
       "Monarch Larva (FIRST sighted)      4898\n",
       "Monarch Larva Sighted             17378\n",
       "Monarch PEAK Migration             7689\n",
       "Monarch, Captive-Reared           14339\n",
       "Name: species, dtype: int64"
      ]
     },
     "execution_count": 11,
     "metadata": {},
     "output_type": "execute_result"
    }
   ],
   "source": [
    "dt1.groupby('species')['species'].count()"
   ]
  },
  {
   "cell_type": "code",
   "execution_count": 23,
   "id": "piano-world",
   "metadata": {},
   "outputs": [],
   "source": [
    "roosts = pd.DataFrame(dt1.loc[dt1['species'] == 'Monarch Fall Roost'])"
   ]
  },
  {
   "cell_type": "code",
   "execution_count": 24,
   "id": "middle-basics",
   "metadata": {},
   "outputs": [
    {
     "data": {
      "text/html": [
       "<div>\n",
       "<style scoped>\n",
       "    .dataframe tbody tr th:only-of-type {\n",
       "        vertical-align: middle;\n",
       "    }\n",
       "\n",
       "    .dataframe tbody tr th {\n",
       "        vertical-align: top;\n",
       "    }\n",
       "\n",
       "    .dataframe thead th {\n",
       "        text-align: right;\n",
       "    }\n",
       "</style>\n",
       "<table border=\"1\" class=\"dataframe\">\n",
       "  <thead>\n",
       "    <tr style=\"text-align: right;\">\n",
       "      <th></th>\n",
       "      <th>id</th>\n",
       "      <th>sighting_date</th>\n",
       "      <th>species</th>\n",
       "      <th>number</th>\n",
       "      <th>latitude</th>\n",
       "      <th>longitude</th>\n",
       "      <th>flag_location</th>\n",
       "      <th>comments</th>\n",
       "      <th>school</th>\n",
       "      <th>grade</th>\n",
       "      <th>image_url</th>\n",
       "      <th>customerid</th>\n",
       "      <th>number_old</th>\n",
       "      <th>flag_number</th>\n",
       "      <th>species_old</th>\n",
       "      <th>flag_species</th>\n",
       "      <th>sighting_date_datetime</th>\n",
       "    </tr>\n",
       "  </thead>\n",
       "  <tbody>\n",
       "    <tr>\n",
       "      <th>7887</th>\n",
       "      <td>1030474075</td>\n",
       "      <td>2002-08-28</td>\n",
       "      <td>Monarch Fall Roost</td>\n",
       "      <td>1</td>\n",
       "      <td>45.068</td>\n",
       "      <td>-92.838</td>\n",
       "      <td>0</td>\n",
       "      <td>NaN</td>\n",
       "      <td>St. croix valley area learning center</td>\n",
       "      <td>9.0</td>\n",
       "      <td>NaN</td>\n",
       "      <td>9907033</td>\n",
       "      <td>NaN</td>\n",
       "      <td>1</td>\n",
       "      <td>Monarch Fall Roost</td>\n",
       "      <td>0</td>\n",
       "      <td>2002-08-28</td>\n",
       "    </tr>\n",
       "    <tr>\n",
       "      <th>7891</th>\n",
       "      <td>1030540328</td>\n",
       "      <td>2002-08-27</td>\n",
       "      <td>Monarch Fall Roost</td>\n",
       "      <td>1</td>\n",
       "      <td>46.121</td>\n",
       "      <td>-96.441</td>\n",
       "      <td>0</td>\n",
       "      <td>This year I have had a total of 88 Monarchs ro...</td>\n",
       "      <td>NaN</td>\n",
       "      <td>NaN</td>\n",
       "      <td>NaN</td>\n",
       "      <td>9902930</td>\n",
       "      <td>NaN</td>\n",
       "      <td>1</td>\n",
       "      <td>Monarch Fall Roost</td>\n",
       "      <td>0</td>\n",
       "      <td>2002-08-27</td>\n",
       "    </tr>\n",
       "    <tr>\n",
       "      <th>7947</th>\n",
       "      <td>1030833955</td>\n",
       "      <td>2002-08-31</td>\n",
       "      <td>Monarch Fall Roost</td>\n",
       "      <td>1</td>\n",
       "      <td>44.966</td>\n",
       "      <td>-93.084</td>\n",
       "      <td>0</td>\n",
       "      <td>For the second year in a row, we found monarch...</td>\n",
       "      <td>Museum magnet elem. school</td>\n",
       "      <td>4.0</td>\n",
       "      <td>NaN</td>\n",
       "      <td>9905440</td>\n",
       "      <td>NaN</td>\n",
       "      <td>1</td>\n",
       "      <td>Monarch Fall Roost</td>\n",
       "      <td>0</td>\n",
       "      <td>2002-08-31</td>\n",
       "    </tr>\n",
       "    <tr>\n",
       "      <th>7974</th>\n",
       "      <td>1031068371</td>\n",
       "      <td>2002-09-02</td>\n",
       "      <td>Monarch Fall Roost</td>\n",
       "      <td>1</td>\n",
       "      <td>43.086</td>\n",
       "      <td>-91.423</td>\n",
       "      <td>0</td>\n",
       "      <td>We have found the migration to be late also.  ...</td>\n",
       "      <td>NaN</td>\n",
       "      <td>NaN</td>\n",
       "      <td>NaN</td>\n",
       "      <td>1627</td>\n",
       "      <td>NaN</td>\n",
       "      <td>1</td>\n",
       "      <td>Monarch Fall Roost</td>\n",
       "      <td>0</td>\n",
       "      <td>2002-09-02</td>\n",
       "    </tr>\n",
       "    <tr>\n",
       "      <th>7979</th>\n",
       "      <td>1031074256</td>\n",
       "      <td>2002-09-02</td>\n",
       "      <td>Monarch Fall Roost</td>\n",
       "      <td>1</td>\n",
       "      <td>44.855</td>\n",
       "      <td>-93.775</td>\n",
       "      <td>0</td>\n",
       "      <td>Yesterday about 6 p.m. while walking 1 mile al...</td>\n",
       "      <td>NaN</td>\n",
       "      <td>NaN</td>\n",
       "      <td>NaN</td>\n",
       "      <td>9701177</td>\n",
       "      <td>NaN</td>\n",
       "      <td>1</td>\n",
       "      <td>Monarch Fall Roost</td>\n",
       "      <td>0</td>\n",
       "      <td>2002-09-02</td>\n",
       "    </tr>\n",
       "  </tbody>\n",
       "</table>\n",
       "</div>"
      ],
      "text/plain": [
       "              id sighting_date             species  number  latitude  \\\n",
       "7887  1030474075    2002-08-28  Monarch Fall Roost       1    45.068   \n",
       "7891  1030540328    2002-08-27  Monarch Fall Roost       1    46.121   \n",
       "7947  1030833955    2002-08-31  Monarch Fall Roost       1    44.966   \n",
       "7974  1031068371    2002-09-02  Monarch Fall Roost       1    43.086   \n",
       "7979  1031074256    2002-09-02  Monarch Fall Roost       1    44.855   \n",
       "\n",
       "      longitude flag_location  \\\n",
       "7887    -92.838             0   \n",
       "7891    -96.441             0   \n",
       "7947    -93.084             0   \n",
       "7974    -91.423             0   \n",
       "7979    -93.775             0   \n",
       "\n",
       "                                               comments  \\\n",
       "7887                                                NaN   \n",
       "7891  This year I have had a total of 88 Monarchs ro...   \n",
       "7947  For the second year in a row, we found monarch...   \n",
       "7974  We have found the migration to be late also.  ...   \n",
       "7979  Yesterday about 6 p.m. while walking 1 mile al...   \n",
       "\n",
       "                                     school grade image_url customerid  \\\n",
       "7887  St. croix valley area learning center   9.0       NaN    9907033   \n",
       "7891                                    NaN   NaN       NaN    9902930   \n",
       "7947             Museum magnet elem. school   4.0       NaN    9905440   \n",
       "7974                                    NaN   NaN       NaN       1627   \n",
       "7979                                    NaN   NaN       NaN    9701177   \n",
       "\n",
       "      number_old flag_number         species_old flag_species  \\\n",
       "7887         NaN           1  Monarch Fall Roost            0   \n",
       "7891         NaN           1  Monarch Fall Roost            0   \n",
       "7947         NaN           1  Monarch Fall Roost            0   \n",
       "7974         NaN           1  Monarch Fall Roost            0   \n",
       "7979         NaN           1  Monarch Fall Roost            0   \n",
       "\n",
       "     sighting_date_datetime  \n",
       "7887             2002-08-28  \n",
       "7891             2002-08-27  \n",
       "7947             2002-08-31  \n",
       "7974             2002-09-02  \n",
       "7979             2002-09-02  "
      ]
     },
     "execution_count": 24,
     "metadata": {},
     "output_type": "execute_result"
    }
   ],
   "source": [
    "roosts.head()"
   ]
  },
  {
   "cell_type": "code",
   "execution_count": 25,
   "id": "behavioral-processing",
   "metadata": {},
   "outputs": [],
   "source": [
    "roosts['year'] = roosts['sighting_date_datetime'].dt.year\n",
    "roosts['month'] = roosts['sighting_date_datetime'].dt.month"
   ]
  },
  {
   "cell_type": "code",
   "execution_count": 26,
   "id": "fundamental-turner",
   "metadata": {},
   "outputs": [
    {
     "data": {
      "text/html": [
       "<div>\n",
       "<style scoped>\n",
       "    .dataframe tbody tr th:only-of-type {\n",
       "        vertical-align: middle;\n",
       "    }\n",
       "\n",
       "    .dataframe tbody tr th {\n",
       "        vertical-align: top;\n",
       "    }\n",
       "\n",
       "    .dataframe thead th {\n",
       "        text-align: right;\n",
       "    }\n",
       "</style>\n",
       "<table border=\"1\" class=\"dataframe\">\n",
       "  <thead>\n",
       "    <tr style=\"text-align: right;\">\n",
       "      <th></th>\n",
       "      <th>id</th>\n",
       "      <th>sighting_date</th>\n",
       "      <th>species</th>\n",
       "      <th>number</th>\n",
       "      <th>latitude</th>\n",
       "      <th>longitude</th>\n",
       "      <th>flag_location</th>\n",
       "      <th>comments</th>\n",
       "      <th>school</th>\n",
       "      <th>grade</th>\n",
       "      <th>image_url</th>\n",
       "      <th>customerid</th>\n",
       "      <th>number_old</th>\n",
       "      <th>flag_number</th>\n",
       "      <th>species_old</th>\n",
       "      <th>flag_species</th>\n",
       "      <th>sighting_date_datetime</th>\n",
       "      <th>year</th>\n",
       "      <th>month</th>\n",
       "    </tr>\n",
       "  </thead>\n",
       "  <tbody>\n",
       "    <tr>\n",
       "      <th>7887</th>\n",
       "      <td>1030474075</td>\n",
       "      <td>2002-08-28</td>\n",
       "      <td>Monarch Fall Roost</td>\n",
       "      <td>1</td>\n",
       "      <td>45.068</td>\n",
       "      <td>-92.838</td>\n",
       "      <td>0</td>\n",
       "      <td>NaN</td>\n",
       "      <td>St. croix valley area learning center</td>\n",
       "      <td>9.0</td>\n",
       "      <td>NaN</td>\n",
       "      <td>9907033</td>\n",
       "      <td>NaN</td>\n",
       "      <td>1</td>\n",
       "      <td>Monarch Fall Roost</td>\n",
       "      <td>0</td>\n",
       "      <td>2002-08-28</td>\n",
       "      <td>2002</td>\n",
       "      <td>8</td>\n",
       "    </tr>\n",
       "    <tr>\n",
       "      <th>7891</th>\n",
       "      <td>1030540328</td>\n",
       "      <td>2002-08-27</td>\n",
       "      <td>Monarch Fall Roost</td>\n",
       "      <td>1</td>\n",
       "      <td>46.121</td>\n",
       "      <td>-96.441</td>\n",
       "      <td>0</td>\n",
       "      <td>This year I have had a total of 88 Monarchs ro...</td>\n",
       "      <td>NaN</td>\n",
       "      <td>NaN</td>\n",
       "      <td>NaN</td>\n",
       "      <td>9902930</td>\n",
       "      <td>NaN</td>\n",
       "      <td>1</td>\n",
       "      <td>Monarch Fall Roost</td>\n",
       "      <td>0</td>\n",
       "      <td>2002-08-27</td>\n",
       "      <td>2002</td>\n",
       "      <td>8</td>\n",
       "    </tr>\n",
       "    <tr>\n",
       "      <th>7947</th>\n",
       "      <td>1030833955</td>\n",
       "      <td>2002-08-31</td>\n",
       "      <td>Monarch Fall Roost</td>\n",
       "      <td>1</td>\n",
       "      <td>44.966</td>\n",
       "      <td>-93.084</td>\n",
       "      <td>0</td>\n",
       "      <td>For the second year in a row, we found monarch...</td>\n",
       "      <td>Museum magnet elem. school</td>\n",
       "      <td>4.0</td>\n",
       "      <td>NaN</td>\n",
       "      <td>9905440</td>\n",
       "      <td>NaN</td>\n",
       "      <td>1</td>\n",
       "      <td>Monarch Fall Roost</td>\n",
       "      <td>0</td>\n",
       "      <td>2002-08-31</td>\n",
       "      <td>2002</td>\n",
       "      <td>8</td>\n",
       "    </tr>\n",
       "    <tr>\n",
       "      <th>7974</th>\n",
       "      <td>1031068371</td>\n",
       "      <td>2002-09-02</td>\n",
       "      <td>Monarch Fall Roost</td>\n",
       "      <td>1</td>\n",
       "      <td>43.086</td>\n",
       "      <td>-91.423</td>\n",
       "      <td>0</td>\n",
       "      <td>We have found the migration to be late also.  ...</td>\n",
       "      <td>NaN</td>\n",
       "      <td>NaN</td>\n",
       "      <td>NaN</td>\n",
       "      <td>1627</td>\n",
       "      <td>NaN</td>\n",
       "      <td>1</td>\n",
       "      <td>Monarch Fall Roost</td>\n",
       "      <td>0</td>\n",
       "      <td>2002-09-02</td>\n",
       "      <td>2002</td>\n",
       "      <td>9</td>\n",
       "    </tr>\n",
       "    <tr>\n",
       "      <th>7979</th>\n",
       "      <td>1031074256</td>\n",
       "      <td>2002-09-02</td>\n",
       "      <td>Monarch Fall Roost</td>\n",
       "      <td>1</td>\n",
       "      <td>44.855</td>\n",
       "      <td>-93.775</td>\n",
       "      <td>0</td>\n",
       "      <td>Yesterday about 6 p.m. while walking 1 mile al...</td>\n",
       "      <td>NaN</td>\n",
       "      <td>NaN</td>\n",
       "      <td>NaN</td>\n",
       "      <td>9701177</td>\n",
       "      <td>NaN</td>\n",
       "      <td>1</td>\n",
       "      <td>Monarch Fall Roost</td>\n",
       "      <td>0</td>\n",
       "      <td>2002-09-02</td>\n",
       "      <td>2002</td>\n",
       "      <td>9</td>\n",
       "    </tr>\n",
       "  </tbody>\n",
       "</table>\n",
       "</div>"
      ],
      "text/plain": [
       "              id sighting_date             species  number  latitude  \\\n",
       "7887  1030474075    2002-08-28  Monarch Fall Roost       1    45.068   \n",
       "7891  1030540328    2002-08-27  Monarch Fall Roost       1    46.121   \n",
       "7947  1030833955    2002-08-31  Monarch Fall Roost       1    44.966   \n",
       "7974  1031068371    2002-09-02  Monarch Fall Roost       1    43.086   \n",
       "7979  1031074256    2002-09-02  Monarch Fall Roost       1    44.855   \n",
       "\n",
       "      longitude flag_location  \\\n",
       "7887    -92.838             0   \n",
       "7891    -96.441             0   \n",
       "7947    -93.084             0   \n",
       "7974    -91.423             0   \n",
       "7979    -93.775             0   \n",
       "\n",
       "                                               comments  \\\n",
       "7887                                                NaN   \n",
       "7891  This year I have had a total of 88 Monarchs ro...   \n",
       "7947  For the second year in a row, we found monarch...   \n",
       "7974  We have found the migration to be late also.  ...   \n",
       "7979  Yesterday about 6 p.m. while walking 1 mile al...   \n",
       "\n",
       "                                     school grade image_url customerid  \\\n",
       "7887  St. croix valley area learning center   9.0       NaN    9907033   \n",
       "7891                                    NaN   NaN       NaN    9902930   \n",
       "7947             Museum magnet elem. school   4.0       NaN    9905440   \n",
       "7974                                    NaN   NaN       NaN       1627   \n",
       "7979                                    NaN   NaN       NaN    9701177   \n",
       "\n",
       "      number_old flag_number         species_old flag_species  \\\n",
       "7887         NaN           1  Monarch Fall Roost            0   \n",
       "7891         NaN           1  Monarch Fall Roost            0   \n",
       "7947         NaN           1  Monarch Fall Roost            0   \n",
       "7974         NaN           1  Monarch Fall Roost            0   \n",
       "7979         NaN           1  Monarch Fall Roost            0   \n",
       "\n",
       "     sighting_date_datetime  year  month  \n",
       "7887             2002-08-28  2002      8  \n",
       "7891             2002-08-27  2002      8  \n",
       "7947             2002-08-31  2002      8  \n",
       "7974             2002-09-02  2002      9  \n",
       "7979             2002-09-02  2002      9  "
      ]
     },
     "execution_count": 26,
     "metadata": {},
     "output_type": "execute_result"
    }
   ],
   "source": [
    "roosts.head()"
   ]
  },
  {
   "cell_type": "code",
   "execution_count": 27,
   "id": "interesting-founder",
   "metadata": {},
   "outputs": [
    {
     "data": {
      "text/plain": [
       "year\n",
       "2002     26\n",
       "2003    104\n",
       "2004     73\n",
       "2005    190\n",
       "2006    174\n",
       "2007    269\n",
       "2008    139\n",
       "2009    221\n",
       "2010    341\n",
       "2011    192\n",
       "2012    145\n",
       "2013    125\n",
       "2014    245\n",
       "2015    440\n",
       "2016    253\n",
       "2017    274\n",
       "2018    702\n",
       "2019    671\n",
       "2020    451\n",
       "Name: year, dtype: int64"
      ]
     },
     "execution_count": 27,
     "metadata": {},
     "output_type": "execute_result"
    }
   ],
   "source": [
    "roosts.groupby('year')['year'].count()"
   ]
  },
  {
   "cell_type": "code",
   "execution_count": 28,
   "id": "essential-fundamentals",
   "metadata": {},
   "outputs": [
    {
     "data": {
      "text/plain": [
       "(array([ 130.,  263.,  443.,  360.,  341.,  337.,  370.,  693.,  976.,\n",
       "        1122.]),\n",
       " array([2002. , 2003.8, 2005.6, 2007.4, 2009.2, 2011. , 2012.8, 2014.6,\n",
       "        2016.4, 2018.2, 2020. ]),\n",
       " <BarContainer object of 10 artists>)"
      ]
     },
     "execution_count": 28,
     "metadata": {},
     "output_type": "execute_result"
    },
    {
     "data": {
      "image/png": "[encoded data removed]",
      "text/plain": [
       "<Figure size 432x288 with 1 Axes>"
      ]
     },
     "metadata": {
      "needs_background": "light"
     },
     "output_type": "display_data"
    }
   ],
   "source": [
    "plt.hist(roosts['year'])"
   ]
  },
  {
   "cell_type": "code",
   "execution_count": 29,
   "id": "comparative-butterfly",
   "metadata": {},
   "outputs": [
    {
     "data": {
      "text/plain": [
       "(array([1.000e+00, 1.000e+00, 1.000e+00, 0.000e+00, 0.000e+00, 2.000e+00,\n",
       "        7.860e+02, 2.524e+03, 1.552e+03, 1.680e+02]),\n",
       " array([ 1. ,  2.1,  3.2,  4.3,  5.4,  6.5,  7.6,  8.7,  9.8, 10.9, 12. ]),\n",
       " <BarContainer object of 10 artists>)"
      ]
     },
     "execution_count": 29,
     "metadata": {},
     "output_type": "execute_result"
    },
    {
     "data": {
      "image/png": "[encoded data removed]",
      "text/plain": [
       "<Figure size 432x288 with 1 Axes>"
      ]
     },
     "metadata": {
      "needs_background": "light"
     },
     "output_type": "display_data"
    }
   ],
   "source": [
    "plt.hist(roosts['month'])"
   ]
  },
  {
   "cell_type": "code",
   "execution_count": 30,
   "id": "industrial-prompt",
   "metadata": {},
   "outputs": [],
   "source": [
    "dt1['year'] = dt1['sighting_date_datetime'].dt.year\n",
    "dt1['month'] = dt1['sighting_date_datetime'].dt.month"
   ]
  },
  {
   "cell_type": "code",
   "execution_count": 31,
   "id": "annual-scientist",
   "metadata": {},
   "outputs": [
    {
     "data": {
      "text/plain": [
       "(array([ 3790.,  9782., 15237., 19406., 15148., 18595., 39752., 58513.,\n",
       "        39802.,  7408.]),\n",
       " array([ 1. ,  2.1,  3.2,  4.3,  5.4,  6.5,  7.6,  8.7,  9.8, 10.9, 12. ]),\n",
       " <BarContainer object of 10 artists>)"
      ]
     },
     "execution_count": 31,
     "metadata": {},
     "output_type": "execute_result"
    },
    {
     "data": {
      "image/png": "[encoded data removed]",
      "text/plain": [
       "<Figure size 432x288 with 1 Axes>"
      ]
     },
     "metadata": {
      "needs_background": "light"
     },
     "output_type": "display_data"
    }
   ],
   "source": [
    "plt.hist(dt1['month'])"
   ]
  },
  {
   "cell_type": "code",
   "execution_count": 32,
   "id": "inclusive-classroom",
   "metadata": {},
   "outputs": [
    {
     "data": {
      "text/plain": [
       "(array([ 1611.,  2756.,  7017.,  4993.,  7496., 14313., 14962., 38276.,\n",
       "        51919., 84090.]),\n",
       " array([1996. , 1998.4, 2000.8, 2003.2, 2005.6, 2008. , 2010.4, 2012.8,\n",
       "        2015.2, 2017.6, 2020. ]),\n",
       " <BarContainer object of 10 artists>)"
      ]
     },
     "execution_count": 32,
     "metadata": {},
     "output_type": "execute_result"
    },
    {
     "data": {
      "image/png": "[encoded data removed]",
      "text/plain": [
       "<Figure size 432x288 with 1 Axes>"
      ]
     },
     "metadata": {
      "needs_background": "light"
     },
     "output_type": "display_data"
    }
   ],
   "source": [
    "plt.hist(dt1['year'])"
   ]
  },
  {
   "cell_type": "code",
   "execution_count": 33,
   "id": "continuous-adaptation",
   "metadata": {},
   "outputs": [],
   "source": [
    "migration = pd.DataFrame(dt1.loc[dt1['species'] == 'Monarch PEAK Migration'])"
   ]
  },
  {
   "cell_type": "code",
   "execution_count": 34,
   "id": "choice-ethnic",
   "metadata": {},
   "outputs": [
    {
     "data": {
      "text/plain": [
       "(array([ 429.,  153.,  380.,  750.,  390.,  858.,  598., 1098., 1072.,\n",
       "        1961.]),\n",
       " array([2000., 2002., 2004., 2006., 2008., 2010., 2012., 2014., 2016.,\n",
       "        2018., 2020.]),\n",
       " <BarContainer object of 10 artists>)"
      ]
     },
     "execution_count": 34,
     "metadata": {},
     "output_type": "execute_result"
    },
    {
     "data": {
      "image/png": "[encoded data removed]",
      "text/plain": [
       "<Figure size 432x288 with 1 Axes>"
      ]
     },
     "metadata": {
      "needs_background": "light"
     },
     "output_type": "display_data"
    }
   ],
   "source": [
    "plt.hist(migration['year'])"
   ]
  },
  {
   "cell_type": "code",
   "execution_count": 35,
   "id": "accessory-letter",
   "metadata": {},
   "outputs": [
    {
     "data": {
      "text/html": [
       "<div>\n",
       "<style scoped>\n",
       "    .dataframe tbody tr th:only-of-type {\n",
       "        vertical-align: middle;\n",
       "    }\n",
       "\n",
       "    .dataframe tbody tr th {\n",
       "        vertical-align: top;\n",
       "    }\n",
       "\n",
       "    .dataframe thead th {\n",
       "        text-align: right;\n",
       "    }\n",
       "</style>\n",
       "<table border=\"1\" class=\"dataframe\">\n",
       "  <thead>\n",
       "    <tr style=\"text-align: right;\">\n",
       "      <th></th>\n",
       "      <th>id</th>\n",
       "      <th>sighting_date</th>\n",
       "      <th>species</th>\n",
       "      <th>number</th>\n",
       "      <th>latitude</th>\n",
       "      <th>longitude</th>\n",
       "      <th>flag_location</th>\n",
       "      <th>comments</th>\n",
       "      <th>school</th>\n",
       "      <th>grade</th>\n",
       "      <th>image_url</th>\n",
       "      <th>customerid</th>\n",
       "      <th>number_old</th>\n",
       "      <th>flag_number</th>\n",
       "      <th>species_old</th>\n",
       "      <th>flag_species</th>\n",
       "      <th>sighting_date_datetime</th>\n",
       "      <th>year</th>\n",
       "      <th>month</th>\n",
       "    </tr>\n",
       "  </thead>\n",
       "  <tbody>\n",
       "    <tr>\n",
       "      <th>3541</th>\n",
       "      <td>966119477</td>\n",
       "      <td>2000-08-08</td>\n",
       "      <td>Monarch PEAK Migration</td>\n",
       "      <td>1</td>\n",
       "      <td>47.066</td>\n",
       "      <td>-94.504</td>\n",
       "      <td>0</td>\n",
       "      <td>The first signs of the migration in Minnesota ...</td>\n",
       "      <td>NaN</td>\n",
       "      <td>0.0</td>\n",
       "      <td>NaN</td>\n",
       "      <td>9710973</td>\n",
       "      <td>0.0</td>\n",
       "      <td>2</td>\n",
       "      <td>Monarch PEAK Migration</td>\n",
       "      <td>0</td>\n",
       "      <td>2000-08-08</td>\n",
       "      <td>2000</td>\n",
       "      <td>8</td>\n",
       "    </tr>\n",
       "    <tr>\n",
       "      <th>3544</th>\n",
       "      <td>966258999</td>\n",
       "      <td>2000-08-15</td>\n",
       "      <td>Monarch PEAK Migration</td>\n",
       "      <td>1</td>\n",
       "      <td>44.957</td>\n",
       "      <td>-93.540</td>\n",
       "      <td>0</td>\n",
       "      <td>I observed the first big pulse of fall migrati...</td>\n",
       "      <td>NaN</td>\n",
       "      <td>NaN</td>\n",
       "      <td>NaN</td>\n",
       "      <td>9937188</td>\n",
       "      <td>NaN</td>\n",
       "      <td>1</td>\n",
       "      <td>Monarch PEAK Migration</td>\n",
       "      <td>0</td>\n",
       "      <td>2000-08-15</td>\n",
       "      <td>2000</td>\n",
       "      <td>8</td>\n",
       "    </tr>\n",
       "    <tr>\n",
       "      <th>3547</th>\n",
       "      <td>966374597</td>\n",
       "      <td>2000-08-15</td>\n",
       "      <td>Monarch PEAK Migration</td>\n",
       "      <td>1</td>\n",
       "      <td>45.009</td>\n",
       "      <td>-93.340</td>\n",
       "      <td>0</td>\n",
       "      <td>Lots of Monarch activity today!  We counted 58...</td>\n",
       "      <td>Breck school</td>\n",
       "      <td>4.0</td>\n",
       "      <td>NaN</td>\n",
       "      <td>9704118</td>\n",
       "      <td>0.0</td>\n",
       "      <td>2</td>\n",
       "      <td>Monarch PEAK Migration</td>\n",
       "      <td>0</td>\n",
       "      <td>2000-08-15</td>\n",
       "      <td>2000</td>\n",
       "      <td>8</td>\n",
       "    </tr>\n",
       "    <tr>\n",
       "      <th>3551</th>\n",
       "      <td>966612408</td>\n",
       "      <td>2000-08-17</td>\n",
       "      <td>Monarch PEAK Migration</td>\n",
       "      <td>1</td>\n",
       "      <td>45.050</td>\n",
       "      <td>-93.210</td>\n",
       "      <td>0</td>\n",
       "      <td>The day was an exciting one. We had about 75 b...</td>\n",
       "      <td>NaN</td>\n",
       "      <td>0.0</td>\n",
       "      <td>NaN</td>\n",
       "      <td>2266</td>\n",
       "      <td>0.0</td>\n",
       "      <td>2</td>\n",
       "      <td>Monarch PEAK Migration</td>\n",
       "      <td>0</td>\n",
       "      <td>2000-08-17</td>\n",
       "      <td>2000</td>\n",
       "      <td>8</td>\n",
       "    </tr>\n",
       "    <tr>\n",
       "      <th>3572</th>\n",
       "      <td>966879879</td>\n",
       "      <td>2000-08-20</td>\n",
       "      <td>Monarch PEAK Migration</td>\n",
       "      <td>1</td>\n",
       "      <td>46.926</td>\n",
       "      <td>-96.850</td>\n",
       "      <td>0</td>\n",
       "      <td>It was totally awesome. It was about 4:30pm on...</td>\n",
       "      <td>NaN</td>\n",
       "      <td>NaN</td>\n",
       "      <td>NaN</td>\n",
       "      <td>9900260</td>\n",
       "      <td>NaN</td>\n",
       "      <td>1</td>\n",
       "      <td>Monarch PEAK Migration</td>\n",
       "      <td>0</td>\n",
       "      <td>2000-08-20</td>\n",
       "      <td>2000</td>\n",
       "      <td>8</td>\n",
       "    </tr>\n",
       "  </tbody>\n",
       "</table>\n",
       "</div>"
      ],
      "text/plain": [
       "             id sighting_date                 species  number  latitude  \\\n",
       "3541  966119477    2000-08-08  Monarch PEAK Migration       1    47.066   \n",
       "3544  966258999    2000-08-15  Monarch PEAK Migration       1    44.957   \n",
       "3547  966374597    2000-08-15  Monarch PEAK Migration       1    45.009   \n",
       "3551  966612408    2000-08-17  Monarch PEAK Migration       1    45.050   \n",
       "3572  966879879    2000-08-20  Monarch PEAK Migration       1    46.926   \n",
       "\n",
       "      longitude flag_location  \\\n",
       "3541    -94.504             0   \n",
       "3544    -93.540             0   \n",
       "3547    -93.340             0   \n",
       "3551    -93.210             0   \n",
       "3572    -96.850             0   \n",
       "\n",
       "                                               comments        school grade  \\\n",
       "3541  The first signs of the migration in Minnesota ...           NaN   0.0   \n",
       "3544  I observed the first big pulse of fall migrati...           NaN   NaN   \n",
       "3547  Lots of Monarch activity today!  We counted 58...  Breck school   4.0   \n",
       "3551  The day was an exciting one. We had about 75 b...           NaN   0.0   \n",
       "3572  It was totally awesome. It was about 4:30pm on...           NaN   NaN   \n",
       "\n",
       "     image_url customerid  number_old flag_number             species_old  \\\n",
       "3541       NaN    9710973         0.0           2  Monarch PEAK Migration   \n",
       "3544       NaN    9937188         NaN           1  Monarch PEAK Migration   \n",
       "3547       NaN    9704118         0.0           2  Monarch PEAK Migration   \n",
       "3551       NaN       2266         0.0           2  Monarch PEAK Migration   \n",
       "3572       NaN    9900260         NaN           1  Monarch PEAK Migration   \n",
       "\n",
       "     flag_species sighting_date_datetime  year  month  \n",
       "3541            0             2000-08-08  2000      8  \n",
       "3544            0             2000-08-15  2000      8  \n",
       "3547            0             2000-08-15  2000      8  \n",
       "3551            0             2000-08-17  2000      8  \n",
       "3572            0             2000-08-20  2000      8  "
      ]
     },
     "execution_count": 35,
     "metadata": {},
     "output_type": "execute_result"
    }
   ],
   "source": [
    "migration.head()"
   ]
  },
  {
   "cell_type": "code",
   "execution_count": 52,
   "id": "banned-parliament",
   "metadata": {},
   "outputs": [],
   "source": [
    "migration = pd.concat([roosts, migration])"
   ]
  },
  {
   "cell_type": "code",
   "execution_count": 53,
   "id": "greater-piano",
   "metadata": {},
   "outputs": [
    {
     "data": {
      "text/html": [
       "<div>\n",
       "<style scoped>\n",
       "    .dataframe tbody tr th:only-of-type {\n",
       "        vertical-align: middle;\n",
       "    }\n",
       "\n",
       "    .dataframe tbody tr th {\n",
       "        vertical-align: top;\n",
       "    }\n",
       "\n",
       "    .dataframe thead th {\n",
       "        text-align: right;\n",
       "    }\n",
       "</style>\n",
       "<table border=\"1\" class=\"dataframe\">\n",
       "  <thead>\n",
       "    <tr style=\"text-align: right;\">\n",
       "      <th></th>\n",
       "      <th>id</th>\n",
       "      <th>sighting_date</th>\n",
       "      <th>species</th>\n",
       "      <th>number</th>\n",
       "      <th>latitude</th>\n",
       "      <th>longitude</th>\n",
       "      <th>flag_location</th>\n",
       "      <th>comments</th>\n",
       "      <th>school</th>\n",
       "      <th>grade</th>\n",
       "      <th>image_url</th>\n",
       "      <th>customerid</th>\n",
       "      <th>number_old</th>\n",
       "      <th>flag_number</th>\n",
       "      <th>species_old</th>\n",
       "      <th>flag_species</th>\n",
       "      <th>sighting_date_datetime</th>\n",
       "      <th>year</th>\n",
       "      <th>month</th>\n",
       "    </tr>\n",
       "  </thead>\n",
       "  <tbody>\n",
       "    <tr>\n",
       "      <th>7887</th>\n",
       "      <td>1030474075</td>\n",
       "      <td>2002-08-28</td>\n",
       "      <td>Monarch Fall Roost</td>\n",
       "      <td>1</td>\n",
       "      <td>45.068</td>\n",
       "      <td>-92.838</td>\n",
       "      <td>0</td>\n",
       "      <td>NaN</td>\n",
       "      <td>St. croix valley area learning center</td>\n",
       "      <td>9.0</td>\n",
       "      <td>NaN</td>\n",
       "      <td>9907033</td>\n",
       "      <td>NaN</td>\n",
       "      <td>1</td>\n",
       "      <td>Monarch Fall Roost</td>\n",
       "      <td>0</td>\n",
       "      <td>2002-08-28</td>\n",
       "      <td>2002</td>\n",
       "      <td>8</td>\n",
       "    </tr>\n",
       "    <tr>\n",
       "      <th>7891</th>\n",
       "      <td>1030540328</td>\n",
       "      <td>2002-08-27</td>\n",
       "      <td>Monarch Fall Roost</td>\n",
       "      <td>1</td>\n",
       "      <td>46.121</td>\n",
       "      <td>-96.441</td>\n",
       "      <td>0</td>\n",
       "      <td>This year I have had a total of 88 Monarchs ro...</td>\n",
       "      <td>NaN</td>\n",
       "      <td>NaN</td>\n",
       "      <td>NaN</td>\n",
       "      <td>9902930</td>\n",
       "      <td>NaN</td>\n",
       "      <td>1</td>\n",
       "      <td>Monarch Fall Roost</td>\n",
       "      <td>0</td>\n",
       "      <td>2002-08-27</td>\n",
       "      <td>2002</td>\n",
       "      <td>8</td>\n",
       "    </tr>\n",
       "    <tr>\n",
       "      <th>7947</th>\n",
       "      <td>1030833955</td>\n",
       "      <td>2002-08-31</td>\n",
       "      <td>Monarch Fall Roost</td>\n",
       "      <td>1</td>\n",
       "      <td>44.966</td>\n",
       "      <td>-93.084</td>\n",
       "      <td>0</td>\n",
       "      <td>For the second year in a row, we found monarch...</td>\n",
       "      <td>Museum magnet elem. school</td>\n",
       "      <td>4.0</td>\n",
       "      <td>NaN</td>\n",
       "      <td>9905440</td>\n",
       "      <td>NaN</td>\n",
       "      <td>1</td>\n",
       "      <td>Monarch Fall Roost</td>\n",
       "      <td>0</td>\n",
       "      <td>2002-08-31</td>\n",
       "      <td>2002</td>\n",
       "      <td>8</td>\n",
       "    </tr>\n",
       "    <tr>\n",
       "      <th>7974</th>\n",
       "      <td>1031068371</td>\n",
       "      <td>2002-09-02</td>\n",
       "      <td>Monarch Fall Roost</td>\n",
       "      <td>1</td>\n",
       "      <td>43.086</td>\n",
       "      <td>-91.423</td>\n",
       "      <td>0</td>\n",
       "      <td>We have found the migration to be late also.  ...</td>\n",
       "      <td>NaN</td>\n",
       "      <td>NaN</td>\n",
       "      <td>NaN</td>\n",
       "      <td>1627</td>\n",
       "      <td>NaN</td>\n",
       "      <td>1</td>\n",
       "      <td>Monarch Fall Roost</td>\n",
       "      <td>0</td>\n",
       "      <td>2002-09-02</td>\n",
       "      <td>2002</td>\n",
       "      <td>9</td>\n",
       "    </tr>\n",
       "    <tr>\n",
       "      <th>7979</th>\n",
       "      <td>1031074256</td>\n",
       "      <td>2002-09-02</td>\n",
       "      <td>Monarch Fall Roost</td>\n",
       "      <td>1</td>\n",
       "      <td>44.855</td>\n",
       "      <td>-93.775</td>\n",
       "      <td>0</td>\n",
       "      <td>Yesterday about 6 p.m. while walking 1 mile al...</td>\n",
       "      <td>NaN</td>\n",
       "      <td>NaN</td>\n",
       "      <td>NaN</td>\n",
       "      <td>9701177</td>\n",
       "      <td>NaN</td>\n",
       "      <td>1</td>\n",
       "      <td>Monarch Fall Roost</td>\n",
       "      <td>0</td>\n",
       "      <td>2002-09-02</td>\n",
       "      <td>2002</td>\n",
       "      <td>9</td>\n",
       "    </tr>\n",
       "  </tbody>\n",
       "</table>\n",
       "</div>"
      ],
      "text/plain": [
       "              id sighting_date             species  number  latitude  \\\n",
       "7887  1030474075    2002-08-28  Monarch Fall Roost       1    45.068   \n",
       "7891  1030540328    2002-08-27  Monarch Fall Roost       1    46.121   \n",
       "7947  1030833955    2002-08-31  Monarch Fall Roost       1    44.966   \n",
       "7974  1031068371    2002-09-02  Monarch Fall Roost       1    43.086   \n",
       "7979  1031074256    2002-09-02  Monarch Fall Roost       1    44.855   \n",
       "\n",
       "      longitude flag_location  \\\n",
       "7887    -92.838             0   \n",
       "7891    -96.441             0   \n",
       "7947    -93.084             0   \n",
       "7974    -91.423             0   \n",
       "7979    -93.775             0   \n",
       "\n",
       "                                               comments  \\\n",
       "7887                                                NaN   \n",
       "7891  This year I have had a total of 88 Monarchs ro...   \n",
       "7947  For the second year in a row, we found monarch...   \n",
       "7974  We have found the migration to be late also.  ...   \n",
       "7979  Yesterday about 6 p.m. while walking 1 mile al...   \n",
       "\n",
       "                                     school grade image_url customerid  \\\n",
       "7887  St. croix valley area learning center   9.0       NaN    9907033   \n",
       "7891                                    NaN   NaN       NaN    9902930   \n",
       "7947             Museum magnet elem. school   4.0       NaN    9905440   \n",
       "7974                                    NaN   NaN       NaN       1627   \n",
       "7979                                    NaN   NaN       NaN    9701177   \n",
       "\n",
       "      number_old flag_number         species_old flag_species  \\\n",
       "7887         NaN           1  Monarch Fall Roost            0   \n",
       "7891         NaN           1  Monarch Fall Roost            0   \n",
       "7947         NaN           1  Monarch Fall Roost            0   \n",
       "7974         NaN           1  Monarch Fall Roost            0   \n",
       "7979         NaN           1  Monarch Fall Roost            0   \n",
       "\n",
       "     sighting_date_datetime  year  month  \n",
       "7887             2002-08-28  2002      8  \n",
       "7891             2002-08-27  2002      8  \n",
       "7947             2002-08-31  2002      8  \n",
       "7974             2002-09-02  2002      9  \n",
       "7979             2002-09-02  2002      9  "
      ]
     },
     "execution_count": 53,
     "metadata": {},
     "output_type": "execute_result"
    }
   ],
   "source": [
    "migration.head()"
   ]
  },
  {
   "cell_type": "code",
   "execution_count": 54,
   "id": "cross-voltage",
   "metadata": {},
   "outputs": [
    {
     "data": {
      "text/plain": [
       "species\n",
       "Milkweed (FIRST sighted)            0\n",
       "Milkweed Sighted                    0\n",
       "Monarch (OTHER Observations)        0\n",
       "Monarch Adult (FIRST sighted)       0\n",
       "Monarch Adult Sighted               0\n",
       "Monarch Egg (FIRST sighted)         0\n",
       "Monarch Egg Sighted                 0\n",
       "Monarch Fall Roost               5035\n",
       "Monarch Larva (FIRST sighted)       0\n",
       "Monarch Larva Sighted               0\n",
       "Monarch PEAK Migration           7689\n",
       "Monarch, Captive-Reared             0\n",
       "Name: species, dtype: int64"
      ]
     },
     "execution_count": 54,
     "metadata": {},
     "output_type": "execute_result"
    }
   ],
   "source": [
    "migration.groupby('species')['species'].count()"
   ]
  },
  {
   "cell_type": "code",
   "execution_count": 57,
   "id": "combined-prediction",
   "metadata": {},
   "outputs": [
    {
     "data": {
      "text/plain": [
       "(12724, 19)"
      ]
     },
     "execution_count": 57,
     "metadata": {},
     "output_type": "execute_result"
    }
   ],
   "source": [
    "migration.shape"
   ]
  },
  {
   "cell_type": "code",
   "execution_count": 58,
   "id": "russian-curtis",
   "metadata": {},
   "outputs": [
    {
     "data": {
      "text/html": [
       "<div>\n",
       "<style scoped>\n",
       "    .dataframe tbody tr th:only-of-type {\n",
       "        vertical-align: middle;\n",
       "    }\n",
       "\n",
       "    .dataframe tbody tr th {\n",
       "        vertical-align: top;\n",
       "    }\n",
       "\n",
       "    .dataframe thead th {\n",
       "        text-align: right;\n",
       "    }\n",
       "</style>\n",
       "<table border=\"1\" class=\"dataframe\">\n",
       "  <thead>\n",
       "    <tr style=\"text-align: right;\">\n",
       "      <th></th>\n",
       "      <th>id</th>\n",
       "      <th>sighting_date</th>\n",
       "      <th>species</th>\n",
       "      <th>number</th>\n",
       "      <th>latitude</th>\n",
       "      <th>longitude</th>\n",
       "      <th>flag_location</th>\n",
       "      <th>comments</th>\n",
       "      <th>school</th>\n",
       "      <th>grade</th>\n",
       "      <th>image_url</th>\n",
       "      <th>customerid</th>\n",
       "      <th>number_old</th>\n",
       "      <th>flag_number</th>\n",
       "      <th>species_old</th>\n",
       "      <th>flag_species</th>\n",
       "      <th>sighting_date_datetime</th>\n",
       "      <th>year</th>\n",
       "      <th>month</th>\n",
       "    </tr>\n",
       "  </thead>\n",
       "  <tbody>\n",
       "    <tr>\n",
       "      <th>7887</th>\n",
       "      <td>1030474075</td>\n",
       "      <td>2002-08-28</td>\n",
       "      <td>Monarch Fall Roost</td>\n",
       "      <td>1</td>\n",
       "      <td>45.068</td>\n",
       "      <td>-92.838</td>\n",
       "      <td>0</td>\n",
       "      <td>NaN</td>\n",
       "      <td>St. croix valley area learning center</td>\n",
       "      <td>9.0</td>\n",
       "      <td>NaN</td>\n",
       "      <td>9907033</td>\n",
       "      <td>NaN</td>\n",
       "      <td>1</td>\n",
       "      <td>Monarch Fall Roost</td>\n",
       "      <td>0</td>\n",
       "      <td>2002-08-28</td>\n",
       "      <td>2002</td>\n",
       "      <td>8</td>\n",
       "    </tr>\n",
       "    <tr>\n",
       "      <th>7891</th>\n",
       "      <td>1030540328</td>\n",
       "      <td>2002-08-27</td>\n",
       "      <td>Monarch Fall Roost</td>\n",
       "      <td>1</td>\n",
       "      <td>46.121</td>\n",
       "      <td>-96.441</td>\n",
       "      <td>0</td>\n",
       "      <td>This year I have had a total of 88 Monarchs ro...</td>\n",
       "      <td>NaN</td>\n",
       "      <td>NaN</td>\n",
       "      <td>NaN</td>\n",
       "      <td>9902930</td>\n",
       "      <td>NaN</td>\n",
       "      <td>1</td>\n",
       "      <td>Monarch Fall Roost</td>\n",
       "      <td>0</td>\n",
       "      <td>2002-08-27</td>\n",
       "      <td>2002</td>\n",
       "      <td>8</td>\n",
       "    </tr>\n",
       "    <tr>\n",
       "      <th>7947</th>\n",
       "      <td>1030833955</td>\n",
       "      <td>2002-08-31</td>\n",
       "      <td>Monarch Fall Roost</td>\n",
       "      <td>1</td>\n",
       "      <td>44.966</td>\n",
       "      <td>-93.084</td>\n",
       "      <td>0</td>\n",
       "      <td>For the second year in a row, we found monarch...</td>\n",
       "      <td>Museum magnet elem. school</td>\n",
       "      <td>4.0</td>\n",
       "      <td>NaN</td>\n",
       "      <td>9905440</td>\n",
       "      <td>NaN</td>\n",
       "      <td>1</td>\n",
       "      <td>Monarch Fall Roost</td>\n",
       "      <td>0</td>\n",
       "      <td>2002-08-31</td>\n",
       "      <td>2002</td>\n",
       "      <td>8</td>\n",
       "    </tr>\n",
       "    <tr>\n",
       "      <th>7974</th>\n",
       "      <td>1031068371</td>\n",
       "      <td>2002-09-02</td>\n",
       "      <td>Monarch Fall Roost</td>\n",
       "      <td>1</td>\n",
       "      <td>43.086</td>\n",
       "      <td>-91.423</td>\n",
       "      <td>0</td>\n",
       "      <td>We have found the migration to be late also.  ...</td>\n",
       "      <td>NaN</td>\n",
       "      <td>NaN</td>\n",
       "      <td>NaN</td>\n",
       "      <td>1627</td>\n",
       "      <td>NaN</td>\n",
       "      <td>1</td>\n",
       "      <td>Monarch Fall Roost</td>\n",
       "      <td>0</td>\n",
       "      <td>2002-09-02</td>\n",
       "      <td>2002</td>\n",
       "      <td>9</td>\n",
       "    </tr>\n",
       "    <tr>\n",
       "      <th>7979</th>\n",
       "      <td>1031074256</td>\n",
       "      <td>2002-09-02</td>\n",
       "      <td>Monarch Fall Roost</td>\n",
       "      <td>1</td>\n",
       "      <td>44.855</td>\n",
       "      <td>-93.775</td>\n",
       "      <td>0</td>\n",
       "      <td>Yesterday about 6 p.m. while walking 1 mile al...</td>\n",
       "      <td>NaN</td>\n",
       "      <td>NaN</td>\n",
       "      <td>NaN</td>\n",
       "      <td>9701177</td>\n",
       "      <td>NaN</td>\n",
       "      <td>1</td>\n",
       "      <td>Monarch Fall Roost</td>\n",
       "      <td>0</td>\n",
       "      <td>2002-09-02</td>\n",
       "      <td>2002</td>\n",
       "      <td>9</td>\n",
       "    </tr>\n",
       "  </tbody>\n",
       "</table>\n",
       "</div>"
      ],
      "text/plain": [
       "              id sighting_date             species  number  latitude  \\\n",
       "7887  1030474075    2002-08-28  Monarch Fall Roost       1    45.068   \n",
       "7891  1030540328    2002-08-27  Monarch Fall Roost       1    46.121   \n",
       "7947  1030833955    2002-08-31  Monarch Fall Roost       1    44.966   \n",
       "7974  1031068371    2002-09-02  Monarch Fall Roost       1    43.086   \n",
       "7979  1031074256    2002-09-02  Monarch Fall Roost       1    44.855   \n",
       "\n",
       "      longitude flag_location  \\\n",
       "7887    -92.838             0   \n",
       "7891    -96.441             0   \n",
       "7947    -93.084             0   \n",
       "7974    -91.423             0   \n",
       "7979    -93.775             0   \n",
       "\n",
       "                                               comments  \\\n",
       "7887                                                NaN   \n",
       "7891  This year I have had a total of 88 Monarchs ro...   \n",
       "7947  For the second year in a row, we found monarch...   \n",
       "7974  We have found the migration to be late also.  ...   \n",
       "7979  Yesterday about 6 p.m. while walking 1 mile al...   \n",
       "\n",
       "                                     school grade image_url customerid  \\\n",
       "7887  St. croix valley area learning center   9.0       NaN    9907033   \n",
       "7891                                    NaN   NaN       NaN    9902930   \n",
       "7947             Museum magnet elem. school   4.0       NaN    9905440   \n",
       "7974                                    NaN   NaN       NaN       1627   \n",
       "7979                                    NaN   NaN       NaN    9701177   \n",
       "\n",
       "      number_old flag_number         species_old flag_species  \\\n",
       "7887         NaN           1  Monarch Fall Roost            0   \n",
       "7891         NaN           1  Monarch Fall Roost            0   \n",
       "7947         NaN           1  Monarch Fall Roost            0   \n",
       "7974         NaN           1  Monarch Fall Roost            0   \n",
       "7979         NaN           1  Monarch Fall Roost            0   \n",
       "\n",
       "     sighting_date_datetime  year  month  \n",
       "7887             2002-08-28  2002      8  \n",
       "7891             2002-08-27  2002      8  \n",
       "7947             2002-08-31  2002      8  \n",
       "7974             2002-09-02  2002      9  \n",
       "7979             2002-09-02  2002      9  "
      ]
     },
     "execution_count": 58,
     "metadata": {},
     "output_type": "execute_result"
    }
   ],
   "source": [
    "migration.head()"
   ]
  },
  {
   "cell_type": "code",
   "execution_count": 63,
   "id": "operational-alloy",
   "metadata": {},
   "outputs": [],
   "source": [
    "#drop unused columns\n",
    "migration.drop(['flag_location', 'school', 'grade', 'customerid', 'number_old', 'flag_number', 'flag_species'], axis=1, inplace=True)"
   ]
  },
  {
   "cell_type": "code",
   "execution_count": null,
   "id": "adjusted-implementation",
   "metadata": {},
   "outputs": [],
   "source": [
    "migration.isnull().sum()"
   ]
  },
  {
   "cell_type": "code",
   "execution_count": 64,
   "id": "incorrect-knitting",
   "metadata": {},
   "outputs": [
    {
     "data": {
      "text/html": [
       "<div>\n",
       "<style scoped>\n",
       "    .dataframe tbody tr th:only-of-type {\n",
       "        vertical-align: middle;\n",
       "    }\n",
       "\n",
       "    .dataframe tbody tr th {\n",
       "        vertical-align: top;\n",
       "    }\n",
       "\n",
       "    .dataframe thead th {\n",
       "        text-align: right;\n",
       "    }\n",
       "</style>\n",
       "<table border=\"1\" class=\"dataframe\">\n",
       "  <thead>\n",
       "    <tr style=\"text-align: right;\">\n",
       "      <th></th>\n",
       "      <th>id</th>\n",
       "      <th>sighting_date</th>\n",
       "      <th>species</th>\n",
       "      <th>number</th>\n",
       "      <th>latitude</th>\n",
       "      <th>longitude</th>\n",
       "      <th>comments</th>\n",
       "      <th>image_url</th>\n",
       "      <th>species_old</th>\n",
       "      <th>sighting_date_datetime</th>\n",
       "      <th>year</th>\n",
       "      <th>month</th>\n",
       "    </tr>\n",
       "  </thead>\n",
       "  <tbody>\n",
       "    <tr>\n",
       "      <th>7887</th>\n",
       "      <td>1030474075</td>\n",
       "      <td>2002-08-28</td>\n",
       "      <td>Monarch Fall Roost</td>\n",
       "      <td>1</td>\n",
       "      <td>45.068</td>\n",
       "      <td>-92.838</td>\n",
       "      <td>NaN</td>\n",
       "      <td>NaN</td>\n",
       "      <td>Monarch Fall Roost</td>\n",
       "      <td>2002-08-28</td>\n",
       "      <td>2002</td>\n",
       "      <td>8</td>\n",
       "    </tr>\n",
       "    <tr>\n",
       "      <th>7891</th>\n",
       "      <td>1030540328</td>\n",
       "      <td>2002-08-27</td>\n",
       "      <td>Monarch Fall Roost</td>\n",
       "      <td>1</td>\n",
       "      <td>46.121</td>\n",
       "      <td>-96.441</td>\n",
       "      <td>This year I have had a total of 88 Monarchs ro...</td>\n",
       "      <td>NaN</td>\n",
       "      <td>Monarch Fall Roost</td>\n",
       "      <td>2002-08-27</td>\n",
       "      <td>2002</td>\n",
       "      <td>8</td>\n",
       "    </tr>\n",
       "    <tr>\n",
       "      <th>7947</th>\n",
       "      <td>1030833955</td>\n",
       "      <td>2002-08-31</td>\n",
       "      <td>Monarch Fall Roost</td>\n",
       "      <td>1</td>\n",
       "      <td>44.966</td>\n",
       "      <td>-93.084</td>\n",
       "      <td>For the second year in a row, we found monarch...</td>\n",
       "      <td>NaN</td>\n",
       "      <td>Monarch Fall Roost</td>\n",
       "      <td>2002-08-31</td>\n",
       "      <td>2002</td>\n",
       "      <td>8</td>\n",
       "    </tr>\n",
       "    <tr>\n",
       "      <th>7974</th>\n",
       "      <td>1031068371</td>\n",
       "      <td>2002-09-02</td>\n",
       "      <td>Monarch Fall Roost</td>\n",
       "      <td>1</td>\n",
       "      <td>43.086</td>\n",
       "      <td>-91.423</td>\n",
       "      <td>We have found the migration to be late also.  ...</td>\n",
       "      <td>NaN</td>\n",
       "      <td>Monarch Fall Roost</td>\n",
       "      <td>2002-09-02</td>\n",
       "      <td>2002</td>\n",
       "      <td>9</td>\n",
       "    </tr>\n",
       "    <tr>\n",
       "      <th>7979</th>\n",
       "      <td>1031074256</td>\n",
       "      <td>2002-09-02</td>\n",
       "      <td>Monarch Fall Roost</td>\n",
       "      <td>1</td>\n",
       "      <td>44.855</td>\n",
       "      <td>-93.775</td>\n",
       "      <td>Yesterday about 6 p.m. while walking 1 mile al...</td>\n",
       "      <td>NaN</td>\n",
       "      <td>Monarch Fall Roost</td>\n",
       "      <td>2002-09-02</td>\n",
       "      <td>2002</td>\n",
       "      <td>9</td>\n",
       "    </tr>\n",
       "  </tbody>\n",
       "</table>\n",
       "</div>"
      ],
      "text/plain": [
       "              id sighting_date             species  number  latitude  \\\n",
       "7887  1030474075    2002-08-28  Monarch Fall Roost       1    45.068   \n",
       "7891  1030540328    2002-08-27  Monarch Fall Roost       1    46.121   \n",
       "7947  1030833955    2002-08-31  Monarch Fall Roost       1    44.966   \n",
       "7974  1031068371    2002-09-02  Monarch Fall Roost       1    43.086   \n",
       "7979  1031074256    2002-09-02  Monarch Fall Roost       1    44.855   \n",
       "\n",
       "      longitude                                           comments image_url  \\\n",
       "7887    -92.838                                                NaN       NaN   \n",
       "7891    -96.441  This year I have had a total of 88 Monarchs ro...       NaN   \n",
       "7947    -93.084  For the second year in a row, we found monarch...       NaN   \n",
       "7974    -91.423  We have found the migration to be late also.  ...       NaN   \n",
       "7979    -93.775  Yesterday about 6 p.m. while walking 1 mile al...       NaN   \n",
       "\n",
       "             species_old sighting_date_datetime  year  month  \n",
       "7887  Monarch Fall Roost             2002-08-28  2002      8  \n",
       "7891  Monarch Fall Roost             2002-08-27  2002      8  \n",
       "7947  Monarch Fall Roost             2002-08-31  2002      8  \n",
       "7974  Monarch Fall Roost             2002-09-02  2002      9  \n",
       "7979  Monarch Fall Roost             2002-09-02  2002      9  "
      ]
     },
     "execution_count": 64,
     "metadata": {},
     "output_type": "execute_result"
    }
   ],
   "source": [
    "migration.head()"
   ]
  },
  {
   "cell_type": "code",
   "execution_count": 75,
   "id": "integral-summer",
   "metadata": {},
   "outputs": [],
   "source": [
    "#drop unused columns\n",
    "migration.drop(['coords'], axis=1, inplace=True)"
   ]
  },
  {
   "cell_type": "code",
   "execution_count": 86,
   "id": "sustainable-warner",
   "metadata": {},
   "outputs": [
    {
     "data": {
      "text/html": [
       "<div>\n",
       "<style scoped>\n",
       "    .dataframe tbody tr th:only-of-type {\n",
       "        vertical-align: middle;\n",
       "    }\n",
       "\n",
       "    .dataframe tbody tr th {\n",
       "        vertical-align: top;\n",
       "    }\n",
       "\n",
       "    .dataframe thead th {\n",
       "        text-align: right;\n",
       "    }\n",
       "</style>\n",
       "<table border=\"1\" class=\"dataframe\">\n",
       "  <thead>\n",
       "    <tr style=\"text-align: right;\">\n",
       "      <th></th>\n",
       "      <th>id</th>\n",
       "      <th>sighting_date</th>\n",
       "      <th>species</th>\n",
       "      <th>number</th>\n",
       "      <th>latitude</th>\n",
       "      <th>longitude</th>\n",
       "      <th>comments</th>\n",
       "      <th>image_url</th>\n",
       "      <th>species_old</th>\n",
       "      <th>sighting_date_datetime</th>\n",
       "      <th>year</th>\n",
       "      <th>month</th>\n",
       "      <th>coords</th>\n",
       "    </tr>\n",
       "  </thead>\n",
       "  <tbody>\n",
       "    <tr>\n",
       "      <th>7887</th>\n",
       "      <td>1030474075</td>\n",
       "      <td>2002-08-28</td>\n",
       "      <td>Monarch Fall Roost</td>\n",
       "      <td>1</td>\n",
       "      <td>45.068</td>\n",
       "      <td>-92.838</td>\n",
       "      <td>NaN</td>\n",
       "      <td>NaN</td>\n",
       "      <td>Monarch Fall Roost</td>\n",
       "      <td>2002-08-28</td>\n",
       "      <td>2002</td>\n",
       "      <td>8</td>\n",
       "      <td>45.068, -92.838</td>\n",
       "    </tr>\n",
       "    <tr>\n",
       "      <th>7891</th>\n",
       "      <td>1030540328</td>\n",
       "      <td>2002-08-27</td>\n",
       "      <td>Monarch Fall Roost</td>\n",
       "      <td>1</td>\n",
       "      <td>46.121</td>\n",
       "      <td>-96.441</td>\n",
       "      <td>This year I have had a total of 88 Monarchs ro...</td>\n",
       "      <td>NaN</td>\n",
       "      <td>Monarch Fall Roost</td>\n",
       "      <td>2002-08-27</td>\n",
       "      <td>2002</td>\n",
       "      <td>8</td>\n",
       "      <td>46.121, -96.441</td>\n",
       "    </tr>\n",
       "    <tr>\n",
       "      <th>7947</th>\n",
       "      <td>1030833955</td>\n",
       "      <td>2002-08-31</td>\n",
       "      <td>Monarch Fall Roost</td>\n",
       "      <td>1</td>\n",
       "      <td>44.966</td>\n",
       "      <td>-93.084</td>\n",
       "      <td>For the second year in a row, we found monarch...</td>\n",
       "      <td>NaN</td>\n",
       "      <td>Monarch Fall Roost</td>\n",
       "      <td>2002-08-31</td>\n",
       "      <td>2002</td>\n",
       "      <td>8</td>\n",
       "      <td>44.966, -93.084</td>\n",
       "    </tr>\n",
       "    <tr>\n",
       "      <th>7974</th>\n",
       "      <td>1031068371</td>\n",
       "      <td>2002-09-02</td>\n",
       "      <td>Monarch Fall Roost</td>\n",
       "      <td>1</td>\n",
       "      <td>43.086</td>\n",
       "      <td>-91.423</td>\n",
       "      <td>We have found the migration to be late also.  ...</td>\n",
       "      <td>NaN</td>\n",
       "      <td>Monarch Fall Roost</td>\n",
       "      <td>2002-09-02</td>\n",
       "      <td>2002</td>\n",
       "      <td>9</td>\n",
       "      <td>43.086, -91.423</td>\n",
       "    </tr>\n",
       "    <tr>\n",
       "      <th>7979</th>\n",
       "      <td>1031074256</td>\n",
       "      <td>2002-09-02</td>\n",
       "      <td>Monarch Fall Roost</td>\n",
       "      <td>1</td>\n",
       "      <td>44.855</td>\n",
       "      <td>-93.775</td>\n",
       "      <td>Yesterday about 6 p.m. while walking 1 mile al...</td>\n",
       "      <td>NaN</td>\n",
       "      <td>Monarch Fall Roost</td>\n",
       "      <td>2002-09-02</td>\n",
       "      <td>2002</td>\n",
       "      <td>9</td>\n",
       "      <td>44.855, -93.775</td>\n",
       "    </tr>\n",
       "  </tbody>\n",
       "</table>\n",
       "</div>"
      ],
      "text/plain": [
       "              id sighting_date             species  number  latitude  \\\n",
       "7887  1030474075    2002-08-28  Monarch Fall Roost       1    45.068   \n",
       "7891  1030540328    2002-08-27  Monarch Fall Roost       1    46.121   \n",
       "7947  1030833955    2002-08-31  Monarch Fall Roost       1    44.966   \n",
       "7974  1031068371    2002-09-02  Monarch Fall Roost       1    43.086   \n",
       "7979  1031074256    2002-09-02  Monarch Fall Roost       1    44.855   \n",
       "\n",
       "      longitude                                           comments image_url  \\\n",
       "7887    -92.838                                                NaN       NaN   \n",
       "7891    -96.441  This year I have had a total of 88 Monarchs ro...       NaN   \n",
       "7947    -93.084  For the second year in a row, we found monarch...       NaN   \n",
       "7974    -91.423  We have found the migration to be late also.  ...       NaN   \n",
       "7979    -93.775  Yesterday about 6 p.m. while walking 1 mile al...       NaN   \n",
       "\n",
       "             species_old sighting_date_datetime  year  month           coords  \n",
       "7887  Monarch Fall Roost             2002-08-28  2002      8  45.068, -92.838  \n",
       "7891  Monarch Fall Roost             2002-08-27  2002      8  46.121, -96.441  \n",
       "7947  Monarch Fall Roost             2002-08-31  2002      8  44.966, -93.084  \n",
       "7974  Monarch Fall Roost             2002-09-02  2002      9  43.086, -91.423  \n",
       "7979  Monarch Fall Roost             2002-09-02  2002      9  44.855, -93.775  "
      ]
     },
     "execution_count": 86,
     "metadata": {},
     "output_type": "execute_result"
    }
   ],
   "source": [
    "migration.head()"
   ]
  },
  {
   "cell_type": "code",
   "execution_count": 114,
   "id": "upset-investing",
   "metadata": {},
   "outputs": [
    {
     "data": {
      "text/plain": [
       "(12724, 13)"
      ]
     },
     "execution_count": 114,
     "metadata": {},
     "output_type": "execute_result"
    }
   ],
   "source": [
    "migration.shape"
   ]
  },
  {
   "cell_type": "code",
   "execution_count": 115,
   "id": "detailed-invention",
   "metadata": {},
   "outputs": [
    {
     "data": {
      "text/plain": [
       "id                           0\n",
       "sighting_date                0\n",
       "species                      0\n",
       "number                       0\n",
       "latitude                     0\n",
       "longitude                    0\n",
       "comments                     9\n",
       "image_url                 9594\n",
       "species_old                  0\n",
       "sighting_date_datetime       0\n",
       "year                         0\n",
       "month                        0\n",
       "coords                       0\n",
       "dtype: int64"
      ]
     },
     "execution_count": 115,
     "metadata": {},
     "output_type": "execute_result"
    }
   ],
   "source": [
    "migration.isnull().sum()"
   ]
  },
  {
   "cell_type": "code",
   "execution_count": 82,
   "id": "inside-germany",
   "metadata": {},
   "outputs": [
    {
     "data": {
      "text/plain": [
       "(array([1.760e+02, 6.390e+02, 9.150e+02, 1.950e+03, 1.590e+03, 2.755e+03,\n",
       "        3.987e+03, 7.070e+02, 4.000e+00, 1.000e+00]),\n",
       " array([18.91 , 22.612, 26.314, 30.016, 33.718, 37.42 , 41.122, 44.824,\n",
       "        48.526, 52.228, 55.93 ]),\n",
       " <BarContainer object of 10 artists>)"
      ]
     },
     "execution_count": 82,
     "metadata": {},
     "output_type": "execute_result"
    },
    {
     "data": {
      "image/png": "[encoded data removed]",
      "text/plain": [
       "<Figure size 432x288 with 1 Axes>"
      ]
     },
     "metadata": {
      "needs_background": "light"
     },
     "output_type": "display_data"
    }
   ],
   "source": [
    "plt.hist(migration['latitude'])"
   ]
  },
  {
   "cell_type": "code",
   "execution_count": 116,
   "id": "noble-victorian",
   "metadata": {},
   "outputs": [
    {
     "data": {
      "text/plain": [
       "(array([ 429.,  283.,  643., 1193.,  750., 1391.,  868., 1783., 1599.,\n",
       "        3785.]),\n",
       " array([2000., 2002., 2004., 2006., 2008., 2010., 2012., 2014., 2016.,\n",
       "        2018., 2020.]),\n",
       " <BarContainer object of 10 artists>)"
      ]
     },
     "execution_count": 116,
     "metadata": {},
     "output_type": "execute_result"
    },
    {
     "data": {
      "image/png": "[encoded data removed]",
      "text/plain": [
       "<Figure size 432x288 with 1 Axes>"
      ]
     },
     "metadata": {
      "needs_background": "light"
     },
     "output_type": "display_data"
    }
   ],
   "source": [
    "plt.hist(migration['year'])"
   ]
  },
  {
   "cell_type": "code",
   "execution_count": 90,
   "id": "given-liverpool",
   "metadata": {},
   "outputs": [],
   "source": [
    "migration.to_csv('migration.csv')"
   ]
  },
  {
   "cell_type": "markdown",
   "id": "homeless-liabilities",
   "metadata": {},
   "source": [
    "# Cleaning"
   ]
  },
  {
   "cell_type": "markdown",
   "id": "solar-incident",
   "metadata": {},
   "source": [
    "I've decided to narrow the dataset to the years 2015-2020, and as I'm mainly concerned with the fall migration, exclude any observations before August.\n",
    "\n",
    "Since I'm looking at \"peak migration\" numbers and fall roosts, I'm also excluding any observations that number the monarchs between 2 and 9. Many observations were coded with the number as 1, and many were for hundreds or thousands of monarchs, so I will keep those."
   ]
  },
  {
   "cell_type": "code",
   "execution_count": 117,
   "id": "incoming-large",
   "metadata": {},
   "outputs": [
    {
     "data": {
      "text/html": [
       "<div>\n",
       "<style scoped>\n",
       "    .dataframe tbody tr th:only-of-type {\n",
       "        vertical-align: middle;\n",
       "    }\n",
       "\n",
       "    .dataframe tbody tr th {\n",
       "        vertical-align: top;\n",
       "    }\n",
       "\n",
       "    .dataframe thead th {\n",
       "        text-align: right;\n",
       "    }\n",
       "</style>\n",
       "<table border=\"1\" class=\"dataframe\">\n",
       "  <thead>\n",
       "    <tr style=\"text-align: right;\">\n",
       "      <th></th>\n",
       "      <th>id</th>\n",
       "      <th>sighting_date</th>\n",
       "      <th>species</th>\n",
       "      <th>number</th>\n",
       "      <th>latitude</th>\n",
       "      <th>longitude</th>\n",
       "      <th>comments</th>\n",
       "      <th>image_url</th>\n",
       "      <th>species_old</th>\n",
       "      <th>sighting_date_datetime</th>\n",
       "      <th>year</th>\n",
       "      <th>month</th>\n",
       "      <th>coords</th>\n",
       "    </tr>\n",
       "  </thead>\n",
       "  <tbody>\n",
       "    <tr>\n",
       "      <th>7887</th>\n",
       "      <td>1030474075</td>\n",
       "      <td>2002-08-28</td>\n",
       "      <td>Monarch Fall Roost</td>\n",
       "      <td>1</td>\n",
       "      <td>45.068</td>\n",
       "      <td>-92.838</td>\n",
       "      <td>NaN</td>\n",
       "      <td>NaN</td>\n",
       "      <td>Monarch Fall Roost</td>\n",
       "      <td>2002-08-28</td>\n",
       "      <td>2002</td>\n",
       "      <td>8</td>\n",
       "      <td>45.068, -92.838</td>\n",
       "    </tr>\n",
       "    <tr>\n",
       "      <th>7891</th>\n",
       "      <td>1030540328</td>\n",
       "      <td>2002-08-27</td>\n",
       "      <td>Monarch Fall Roost</td>\n",
       "      <td>1</td>\n",
       "      <td>46.121</td>\n",
       "      <td>-96.441</td>\n",
       "      <td>This year I have had a total of 88 Monarchs ro...</td>\n",
       "      <td>NaN</td>\n",
       "      <td>Monarch Fall Roost</td>\n",
       "      <td>2002-08-27</td>\n",
       "      <td>2002</td>\n",
       "      <td>8</td>\n",
       "      <td>46.121, -96.441</td>\n",
       "    </tr>\n",
       "    <tr>\n",
       "      <th>7947</th>\n",
       "      <td>1030833955</td>\n",
       "      <td>2002-08-31</td>\n",
       "      <td>Monarch Fall Roost</td>\n",
       "      <td>1</td>\n",
       "      <td>44.966</td>\n",
       "      <td>-93.084</td>\n",
       "      <td>For the second year in a row, we found monarch...</td>\n",
       "      <td>NaN</td>\n",
       "      <td>Monarch Fall Roost</td>\n",
       "      <td>2002-08-31</td>\n",
       "      <td>2002</td>\n",
       "      <td>8</td>\n",
       "      <td>44.966, -93.084</td>\n",
       "    </tr>\n",
       "    <tr>\n",
       "      <th>7974</th>\n",
       "      <td>1031068371</td>\n",
       "      <td>2002-09-02</td>\n",
       "      <td>Monarch Fall Roost</td>\n",
       "      <td>1</td>\n",
       "      <td>43.086</td>\n",
       "      <td>-91.423</td>\n",
       "      <td>We have found the migration to be late also.  ...</td>\n",
       "      <td>NaN</td>\n",
       "      <td>Monarch Fall Roost</td>\n",
       "      <td>2002-09-02</td>\n",
       "      <td>2002</td>\n",
       "      <td>9</td>\n",
       "      <td>43.086, -91.423</td>\n",
       "    </tr>\n",
       "    <tr>\n",
       "      <th>7979</th>\n",
       "      <td>1031074256</td>\n",
       "      <td>2002-09-02</td>\n",
       "      <td>Monarch Fall Roost</td>\n",
       "      <td>1</td>\n",
       "      <td>44.855</td>\n",
       "      <td>-93.775</td>\n",
       "      <td>Yesterday about 6 p.m. while walking 1 mile al...</td>\n",
       "      <td>NaN</td>\n",
       "      <td>Monarch Fall Roost</td>\n",
       "      <td>2002-09-02</td>\n",
       "      <td>2002</td>\n",
       "      <td>9</td>\n",
       "      <td>44.855, -93.775</td>\n",
       "    </tr>\n",
       "  </tbody>\n",
       "</table>\n",
       "</div>"
      ],
      "text/plain": [
       "              id sighting_date             species  number  latitude  \\\n",
       "7887  1030474075    2002-08-28  Monarch Fall Roost       1    45.068   \n",
       "7891  1030540328    2002-08-27  Monarch Fall Roost       1    46.121   \n",
       "7947  1030833955    2002-08-31  Monarch Fall Roost       1    44.966   \n",
       "7974  1031068371    2002-09-02  Monarch Fall Roost       1    43.086   \n",
       "7979  1031074256    2002-09-02  Monarch Fall Roost       1    44.855   \n",
       "\n",
       "      longitude                                           comments image_url  \\\n",
       "7887    -92.838                                                NaN       NaN   \n",
       "7891    -96.441  This year I have had a total of 88 Monarchs ro...       NaN   \n",
       "7947    -93.084  For the second year in a row, we found monarch...       NaN   \n",
       "7974    -91.423  We have found the migration to be late also.  ...       NaN   \n",
       "7979    -93.775  Yesterday about 6 p.m. while walking 1 mile al...       NaN   \n",
       "\n",
       "             species_old sighting_date_datetime  year  month           coords  \n",
       "7887  Monarch Fall Roost             2002-08-28  2002      8  45.068, -92.838  \n",
       "7891  Monarch Fall Roost             2002-08-27  2002      8  46.121, -96.441  \n",
       "7947  Monarch Fall Roost             2002-08-31  2002      8  44.966, -93.084  \n",
       "7974  Monarch Fall Roost             2002-09-02  2002      9  43.086, -91.423  \n",
       "7979  Monarch Fall Roost             2002-09-02  2002      9  44.855, -93.775  "
      ]
     },
     "execution_count": 117,
     "metadata": {},
     "output_type": "execute_result"
    }
   ],
   "source": [
    "migration.head()"
   ]
  },
  {
   "cell_type": "code",
   "execution_count": 118,
   "id": "documented-kernel",
   "metadata": {},
   "outputs": [
    {
     "data": {
      "text/plain": [
       "(array([ 429.,  283.,  643., 1193.,  750., 1391.,  868., 1783., 1599.,\n",
       "        3785.]),\n",
       " array([2000., 2002., 2004., 2006., 2008., 2010., 2012., 2014., 2016.,\n",
       "        2018., 2020.]),\n",
       " <BarContainer object of 10 artists>)"
      ]
     },
     "execution_count": 118,
     "metadata": {},
     "output_type": "execute_result"
    },
    {
     "data": {
      "image/png": "[encoded data removed]",
      "text/plain": [
       "<Figure size 432x288 with 1 Axes>"
      ]
     },
     "metadata": {
      "needs_background": "light"
     },
     "output_type": "display_data"
    }
   ],
   "source": [
    "plt.hist(migration['year'])"
   ]
  },
  {
   "cell_type": "code",
   "execution_count": 120,
   "id": "understanding-signal",
   "metadata": {},
   "outputs": [],
   "source": [
    "migration_df = migration[migration['year'] > 2014] "
   ]
  },
  {
   "cell_type": "code",
   "execution_count": 124,
   "id": "drawn-camping",
   "metadata": {},
   "outputs": [
    {
     "data": {
      "text/plain": [
       "(array([ 549.,    0., 3119.,    0.,    0., 2398.,    0.,  225.,    0.,\n",
       "           7.]),\n",
       " array([ 8. ,  8.4,  8.8,  9.2,  9.6, 10. , 10.4, 10.8, 11.2, 11.6, 12. ]),\n",
       " <BarContainer object of 10 artists>)"
      ]
     },
     "execution_count": 124,
     "metadata": {},
     "output_type": "execute_result"
    },
    {
     "data": {
      "image/png": "[encoded data removed]",
      "text/plain": [
       "<Figure size 432x288 with 1 Axes>"
      ]
     },
     "metadata": {
      "needs_background": "light"
     },
     "output_type": "display_data"
    }
   ],
   "source": [
    "plt.hist(migration_df['month'])"
   ]
  },
  {
   "cell_type": "code",
   "execution_count": 123,
   "id": "acting-console",
   "metadata": {},
   "outputs": [],
   "source": [
    "migration_df = migration_df[migration_df['month'] > 7] "
   ]
  },
  {
   "cell_type": "code",
   "execution_count": 125,
   "id": "suitable-productivity",
   "metadata": {},
   "outputs": [],
   "source": [
    "migration_df = migration_df.loc[(migration_df['number'] == 1) | (migration_df['number'] > 9)]"
   ]
  },
  {
   "cell_type": "code",
   "execution_count": 126,
   "id": "considerable-princeton",
   "metadata": {},
   "outputs": [
    {
     "data": {
      "text/plain": [
       "(array([6.042e+03, 0.000e+00, 0.000e+00, 0.000e+00, 2.000e+00, 0.000e+00,\n",
       "        0.000e+00, 0.000e+00, 0.000e+00, 3.000e+00]),\n",
       " array([1.000000e+00, 1.000009e+05, 2.000008e+05, 3.000007e+05,\n",
       "        4.000006e+05, 5.000005e+05, 6.000004e+05, 7.000003e+05,\n",
       "        8.000002e+05, 9.000001e+05, 1.000000e+06]),\n",
       " <BarContainer object of 10 artists>)"
      ]
     },
     "execution_count": 126,
     "metadata": {},
     "output_type": "execute_result"
    },
    {
     "data": {
      "image/png": "[encoded data removed]",
      "text/plain": [
       "<Figure size 432x288 with 1 Axes>"
      ]
     },
     "metadata": {
      "needs_background": "light"
     },
     "output_type": "display_data"
    }
   ],
   "source": [
    "plt.hist(migration_df['number'])"
   ]
  },
  {
   "cell_type": "code",
   "execution_count": 127,
   "id": "stylish-witch",
   "metadata": {},
   "outputs": [
    {
     "data": {
      "text/plain": [
       "(6047, 13)"
      ]
     },
     "execution_count": 127,
     "metadata": {},
     "output_type": "execute_result"
    }
   ],
   "source": [
    "migration_df.shape"
   ]
  },
  {
   "cell_type": "code",
   "execution_count": 128,
   "id": "comic-dependence",
   "metadata": {},
   "outputs": [
    {
     "data": {
      "text/plain": [
       "(array([  93.,   80.,  274.,  499.,  579.,  646., 1088., 1960.,  816.,\n",
       "          12.]),\n",
       " array([18.91  , 22.0129, 25.1158, 28.2187, 31.3216, 34.4245, 37.5274,\n",
       "        40.6303, 43.7332, 46.8361, 49.939 ]),\n",
       " <BarContainer object of 10 artists>)"
      ]
     },
     "execution_count": 128,
     "metadata": {},
     "output_type": "execute_result"
    },
    {
     "data": {
      "image/png": "[encoded data removed]",
      "text/plain": [
       "<Figure size 432x288 with 1 Axes>"
      ]
     },
     "metadata": {
      "needs_background": "light"
     },
     "output_type": "display_data"
    }
   ],
   "source": [
    "plt.hist(migration_df['latitude'])"
   ]
  },
  {
   "cell_type": "code",
   "execution_count": 129,
   "id": "joined-taiwan",
   "metadata": {},
   "outputs": [],
   "source": [
    "aug = migration_df[migration_df['month'] == 8] "
   ]
  },
  {
   "cell_type": "code",
   "execution_count": 131,
   "id": "played-search",
   "metadata": {},
   "outputs": [
    {
     "data": {
      "text/plain": [
       "(array([  1.,   0.,   3.,  20.,  68., 156., 220.,  40.,   4.,   1.]),\n",
       " array([36.393 , 37.7476, 39.1022, 40.4568, 41.8114, 43.166 , 44.5206,\n",
       "        45.8752, 47.2298, 48.5844, 49.939 ]),\n",
       " <BarContainer object of 10 artists>)"
      ]
     },
     "execution_count": 131,
     "metadata": {},
     "output_type": "execute_result"
    },
    {
     "data": {
      "image/png": "[encoded data removed]",
      "text/plain": [
       "<Figure size 432x288 with 1 Axes>"
      ]
     },
     "metadata": {
      "needs_background": "light"
     },
     "output_type": "display_data"
    }
   ],
   "source": [
    "plt.hist(aug['latitude'])"
   ]
  },
  {
   "cell_type": "code",
   "execution_count": 132,
   "id": "respiratory-field",
   "metadata": {},
   "outputs": [],
   "source": [
    "sep = migration_df[migration_df['month'] == 9] "
   ]
  },
  {
   "cell_type": "code",
   "execution_count": 133,
   "id": "whole-cartridge",
   "metadata": {},
   "outputs": [
    {
     "data": {
      "text/plain": [
       "(array([   5.,    2.,   43.,  110.,  164.,  455., 1006.,  894.,  284.,\n",
       "          21.]),\n",
       " array([27.692 , 29.7377, 31.7834, 33.8291, 35.8748, 37.9205, 39.9662,\n",
       "        42.0119, 44.0576, 46.1033, 48.149 ]),\n",
       " <BarContainer object of 10 artists>)"
      ]
     },
     "execution_count": 133,
     "metadata": {},
     "output_type": "execute_result"
    },
    {
     "data": {
      "image/png": "[encoded data removed]",
      "text/plain": [
       "<Figure size 432x288 with 1 Axes>"
      ]
     },
     "metadata": {
      "needs_background": "light"
     },
     "output_type": "display_data"
    }
   ],
   "source": [
    "plt.hist(sep['latitude'])"
   ]
  },
  {
   "cell_type": "code",
   "execution_count": 134,
   "id": "loved-meter",
   "metadata": {},
   "outputs": [],
   "source": [
    "oct = migration_df[migration_df['month'] == 10] "
   ]
  },
  {
   "cell_type": "code",
   "execution_count": 135,
   "id": "surprised-bride",
   "metadata": {},
   "outputs": [
    {
     "data": {
      "text/plain": [
       "(array([ 27.,  39., 212., 128., 450., 425., 391., 312., 265.,  77.]),\n",
       " array([18.91  , 21.5318, 24.1536, 26.7754, 29.3972, 32.019 , 34.6408,\n",
       "        37.2626, 39.8844, 42.5062, 45.128 ]),\n",
       " <BarContainer object of 10 artists>)"
      ]
     },
     "execution_count": 135,
     "metadata": {},
     "output_type": "execute_result"
    },
    {
     "data": {
      "image/png": "[encoded data removed]",
      "text/plain": [
       "<Figure size 432x288 with 1 Axes>"
      ]
     },
     "metadata": {
      "needs_background": "light"
     },
     "output_type": "display_data"
    }
   ],
   "source": [
    "plt.hist(oct['latitude'])"
   ]
  },
  {
   "cell_type": "code",
   "execution_count": 137,
   "id": "white-custom",
   "metadata": {},
   "outputs": [
    {
     "data": {
      "text/html": [
       "<div>\n",
       "<style scoped>\n",
       "    .dataframe tbody tr th:only-of-type {\n",
       "        vertical-align: middle;\n",
       "    }\n",
       "\n",
       "    .dataframe tbody tr th {\n",
       "        vertical-align: top;\n",
       "    }\n",
       "\n",
       "    .dataframe thead th {\n",
       "        text-align: right;\n",
       "    }\n",
       "</style>\n",
       "<table border=\"1\" class=\"dataframe\">\n",
       "  <thead>\n",
       "    <tr style=\"text-align: right;\">\n",
       "      <th></th>\n",
       "      <th>number</th>\n",
       "      <th>latitude</th>\n",
       "      <th>longitude</th>\n",
       "      <th>year</th>\n",
       "      <th>month</th>\n",
       "    </tr>\n",
       "  </thead>\n",
       "  <tbody>\n",
       "    <tr>\n",
       "      <th>count</th>\n",
       "      <td>2326.000000</td>\n",
       "      <td>2326.000000</td>\n",
       "      <td>2326.000000</td>\n",
       "      <td>2326.000000</td>\n",
       "      <td>2326.0</td>\n",
       "    </tr>\n",
       "    <tr>\n",
       "      <th>mean</th>\n",
       "      <td>1035.053740</td>\n",
       "      <td>33.820079</td>\n",
       "      <td>-92.659066</td>\n",
       "      <td>2017.380911</td>\n",
       "      <td>10.0</td>\n",
       "    </tr>\n",
       "    <tr>\n",
       "      <th>std</th>\n",
       "      <td>21105.171192</td>\n",
       "      <td>5.240177</td>\n",
       "      <td>9.915555</td>\n",
       "      <td>1.541192</td>\n",
       "      <td>0.0</td>\n",
       "    </tr>\n",
       "    <tr>\n",
       "      <th>min</th>\n",
       "      <td>1.000000</td>\n",
       "      <td>18.910000</td>\n",
       "      <td>-122.458000</td>\n",
       "      <td>2015.000000</td>\n",
       "      <td>10.0</td>\n",
       "    </tr>\n",
       "    <tr>\n",
       "      <th>25%</th>\n",
       "      <td>30.000000</td>\n",
       "      <td>30.226250</td>\n",
       "      <td>-100.217750</td>\n",
       "      <td>2016.000000</td>\n",
       "      <td>10.0</td>\n",
       "    </tr>\n",
       "    <tr>\n",
       "      <th>50%</th>\n",
       "      <td>90.000000</td>\n",
       "      <td>33.717000</td>\n",
       "      <td>-96.937500</td>\n",
       "      <td>2017.000000</td>\n",
       "      <td>10.0</td>\n",
       "    </tr>\n",
       "    <tr>\n",
       "      <th>75%</th>\n",
       "      <td>280.000000</td>\n",
       "      <td>38.079750</td>\n",
       "      <td>-83.298000</td>\n",
       "      <td>2019.000000</td>\n",
       "      <td>10.0</td>\n",
       "    </tr>\n",
       "    <tr>\n",
       "      <th>max</th>\n",
       "      <td>999999.000000</td>\n",
       "      <td>45.128000</td>\n",
       "      <td>-69.254000</td>\n",
       "      <td>2020.000000</td>\n",
       "      <td>10.0</td>\n",
       "    </tr>\n",
       "  </tbody>\n",
       "</table>\n",
       "</div>"
      ],
      "text/plain": [
       "              number     latitude    longitude         year   month\n",
       "count    2326.000000  2326.000000  2326.000000  2326.000000  2326.0\n",
       "mean     1035.053740    33.820079   -92.659066  2017.380911    10.0\n",
       "std     21105.171192     5.240177     9.915555     1.541192     0.0\n",
       "min         1.000000    18.910000  -122.458000  2015.000000    10.0\n",
       "25%        30.000000    30.226250  -100.217750  2016.000000    10.0\n",
       "50%        90.000000    33.717000   -96.937500  2017.000000    10.0\n",
       "75%       280.000000    38.079750   -83.298000  2019.000000    10.0\n",
       "max    999999.000000    45.128000   -69.254000  2020.000000    10.0"
      ]
     },
     "execution_count": 137,
     "metadata": {},
     "output_type": "execute_result"
    }
   ],
   "source": [
    "oct.describe()"
   ]
  },
  {
   "cell_type": "code",
   "execution_count": 149,
   "id": "directed-greenhouse",
   "metadata": {},
   "outputs": [],
   "source": [
    "oct_stats = oct[['latitude']].describe()"
   ]
  },
  {
   "cell_type": "code",
   "execution_count": 152,
   "id": "spiritual-trial",
   "metadata": {},
   "outputs": [
    {
     "data": {
      "text/html": [
       "<div>\n",
       "<style scoped>\n",
       "    .dataframe tbody tr th:only-of-type {\n",
       "        vertical-align: middle;\n",
       "    }\n",
       "\n",
       "    .dataframe tbody tr th {\n",
       "        vertical-align: top;\n",
       "    }\n",
       "\n",
       "    .dataframe thead th {\n",
       "        text-align: right;\n",
       "    }\n",
       "</style>\n",
       "<table border=\"1\" class=\"dataframe\">\n",
       "  <thead>\n",
       "    <tr style=\"text-align: right;\">\n",
       "      <th></th>\n",
       "      <th>latitude</th>\n",
       "    </tr>\n",
       "  </thead>\n",
       "  <tbody>\n",
       "    <tr>\n",
       "      <th>min</th>\n",
       "      <td>18.91000</td>\n",
       "    </tr>\n",
       "    <tr>\n",
       "      <th>25%</th>\n",
       "      <td>30.22625</td>\n",
       "    </tr>\n",
       "    <tr>\n",
       "      <th>50%</th>\n",
       "      <td>33.71700</td>\n",
       "    </tr>\n",
       "    <tr>\n",
       "      <th>75%</th>\n",
       "      <td>38.07975</td>\n",
       "    </tr>\n",
       "    <tr>\n",
       "      <th>max</th>\n",
       "      <td>45.12800</td>\n",
       "    </tr>\n",
       "  </tbody>\n",
       "</table>\n",
       "</div>"
      ],
      "text/plain": [
       "     latitude\n",
       "min  18.91000\n",
       "25%  30.22625\n",
       "50%  33.71700\n",
       "75%  38.07975\n",
       "max  45.12800"
      ]
     },
     "execution_count": 152,
     "metadata": {},
     "output_type": "execute_result"
    }
   ],
   "source": [
    "oct_stats.tail()"
   ]
  },
  {
   "cell_type": "code",
   "execution_count": null,
   "id": "professional-stress",
   "metadata": {},
   "outputs": [],
   "source": []
  }
 ],
 "metadata": {
  "kernelspec": {
   "display_name": "Python 3",
   "language": "python",
   "name": "python3"
  },
  "language_info": {
   "codemirror_mode": {
    "name": "ipython",
    "version": 3
   },
   "file_extension": ".py",
   "mimetype": "text/x-python",
   "name": "python",
   "nbconvert_exporter": "python",
   "pygments_lexer": "ipython3",
   "version": "3.9.2"
  }
 },
 "nbformat": 4,
 "nbformat_minor": 5
}
